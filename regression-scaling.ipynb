{
 "cells": [
  {
   "cell_type": "code",
   "execution_count": 1,
   "id": "2b7dc46e",
   "metadata": {},
   "outputs": [],
   "source": [
    "#Import dependencies\n",
    "import pandas as pd\n",
    "import sklearn.preprocessing\n",
    "import matplotlib.pyplot as plt\n",
    "from sklearn.model_selection import train_test_split\n",
    "from wrangle import wrangle_zillow"
   ]
  },
  {
   "cell_type": "code",
   "execution_count": 2,
   "id": "1f6bdbcf",
   "metadata": {},
   "outputs": [
    {
     "data": {
      "text/html": [
       "<div>\n",
       "<style scoped>\n",
       "    .dataframe tbody tr th:only-of-type {\n",
       "        vertical-align: middle;\n",
       "    }\n",
       "\n",
       "    .dataframe tbody tr th {\n",
       "        vertical-align: top;\n",
       "    }\n",
       "\n",
       "    .dataframe thead th {\n",
       "        text-align: right;\n",
       "    }\n",
       "</style>\n",
       "<table border=\"1\" class=\"dataframe\">\n",
       "  <thead>\n",
       "    <tr style=\"text-align: right;\">\n",
       "      <th></th>\n",
       "      <th>bedrooms</th>\n",
       "      <th>bathrooms</th>\n",
       "      <th>sq_ft</th>\n",
       "      <th>home_value</th>\n",
       "      <th>year_built</th>\n",
       "      <th>tax_amount</th>\n",
       "      <th>fips</th>\n",
       "    </tr>\n",
       "  </thead>\n",
       "  <tbody>\n",
       "    <tr>\n",
       "      <th>0</th>\n",
       "      <td>4.0</td>\n",
       "      <td>2.0</td>\n",
       "      <td>3633.0</td>\n",
       "      <td>296425.0</td>\n",
       "      <td>2005.0</td>\n",
       "      <td>6941.39</td>\n",
       "      <td>6037.0</td>\n",
       "    </tr>\n",
       "    <tr>\n",
       "      <th>1</th>\n",
       "      <td>3.0</td>\n",
       "      <td>4.0</td>\n",
       "      <td>1620.0</td>\n",
       "      <td>847770.0</td>\n",
       "      <td>2011.0</td>\n",
       "      <td>10244.94</td>\n",
       "      <td>6037.0</td>\n",
       "    </tr>\n",
       "    <tr>\n",
       "      <th>2</th>\n",
       "      <td>3.0</td>\n",
       "      <td>2.0</td>\n",
       "      <td>2077.0</td>\n",
       "      <td>646760.0</td>\n",
       "      <td>1926.0</td>\n",
       "      <td>7924.68</td>\n",
       "      <td>6037.0</td>\n",
       "    </tr>\n",
       "    <tr>\n",
       "      <th>3</th>\n",
       "      <td>0.0</td>\n",
       "      <td>0.0</td>\n",
       "      <td>1200.0</td>\n",
       "      <td>5328.0</td>\n",
       "      <td>1972.0</td>\n",
       "      <td>91.60</td>\n",
       "      <td>6037.0</td>\n",
       "    </tr>\n",
       "    <tr>\n",
       "      <th>4</th>\n",
       "      <td>0.0</td>\n",
       "      <td>0.0</td>\n",
       "      <td>171.0</td>\n",
       "      <td>6920.0</td>\n",
       "      <td>1973.0</td>\n",
       "      <td>255.17</td>\n",
       "      <td>6037.0</td>\n",
       "    </tr>\n",
       "  </tbody>\n",
       "</table>\n",
       "</div>"
      ],
      "text/plain": [
       "   bedrooms  bathrooms   sq_ft  home_value  year_built  tax_amount    fips\n",
       "0       4.0        2.0  3633.0    296425.0      2005.0     6941.39  6037.0\n",
       "1       3.0        4.0  1620.0    847770.0      2011.0    10244.94  6037.0\n",
       "2       3.0        2.0  2077.0    646760.0      1926.0     7924.68  6037.0\n",
       "3       0.0        0.0  1200.0      5328.0      1972.0       91.60  6037.0\n",
       "4       0.0        0.0   171.0      6920.0      1973.0      255.17  6037.0"
      ]
     },
     "execution_count": 2,
     "metadata": {},
     "output_type": "execute_result"
    }
   ],
   "source": [
    "#Call the wrangle function to read in the dataset\n",
    "df = wrangle_zillow()\n",
    "df.head()"
   ]
  },
  {
   "cell_type": "code",
   "execution_count": 3,
   "id": "94ada84d",
   "metadata": {},
   "outputs": [],
   "source": [
    "df.drop(columns=['tax_amount'], inplace=True)"
   ]
  },
  {
   "cell_type": "code",
   "execution_count": 4,
   "id": "d6bbff1e",
   "metadata": {},
   "outputs": [],
   "source": [
    "#Split the data before performing scaling on the train portion\n",
    "seed = 42\n",
    "\n",
    "train, valid_test = train_test_split(df, test_size=0.3,\n",
    "                                     random_state=seed)\n",
    "\n",
    "valid, test = train_test_split(valid_test, test_size=0.5,\n",
    "                               random_state=seed)"
   ]
  },
  {
   "cell_type": "code",
   "execution_count": 5,
   "id": "fc654262",
   "metadata": {},
   "outputs": [],
   "source": [
    "X_train = train.drop(columns=['home_value'])"
   ]
  },
  {
   "cell_type": "code",
   "execution_count": 6,
   "id": "3ed4f856",
   "metadata": {},
   "outputs": [
    {
     "data": {
      "text/plain": [
       "2.00     659587\n",
       "3.00     295566\n",
       "1.00     288904\n",
       "2.50     100129\n",
       "4.00      57290\n",
       "1.50      21923\n",
       "3.50      19960\n",
       "5.00      19869\n",
       "4.50      13575\n",
       "6.00       7491\n",
       "5.50       4306\n",
       "7.00       3095\n",
       "0.00       3021\n",
       "8.00       1186\n",
       "6.50        917\n",
       "9.00        487\n",
       "7.50        274\n",
       "10.00       222\n",
       "11.00        92\n",
       "8.50         80\n",
       "12.00        46\n",
       "9.50         33\n",
       "13.00        31\n",
       "14.00        16\n",
       "15.00        16\n",
       "0.50         12\n",
       "16.00        11\n",
       "18.00         7\n",
       "10.50         7\n",
       "20.00         3\n",
       "1.75          3\n",
       "12.50         1\n",
       "17.00         1\n",
       "11.50         1\n",
       "19.50         1\n",
       "32.00         1\n",
       "Name: bathrooms, dtype: int64"
      ]
     },
     "execution_count": 6,
     "metadata": {},
     "output_type": "execute_result"
    }
   ],
   "source": [
    "#Looking at the value counts for bathrooms\n",
    "X_train['bathrooms'].value_counts()"
   ]
  },
  {
   "cell_type": "code",
   "execution_count": 7,
   "id": "150473f4",
   "metadata": {},
   "outputs": [],
   "source": [
    "#Create an arbitrary subset that's easier to work with\n",
    "train_subset = X_train[X_train['bathrooms'] <= 8]"
   ]
  },
  {
   "cell_type": "markdown",
   "id": "94fe749d",
   "metadata": {},
   "source": [
    "## Exercise 1\n",
    "\n",
    "Apply the scalers we talked about in this lesson to your data and visualize the results for the unscaled and scaled distribution."
   ]
  },
  {
   "cell_type": "code",
   "execution_count": 8,
   "id": "4043b142",
   "metadata": {},
   "outputs": [],
   "source": [
    "#Assign the scaler to a variable, and fit/transform the training data\n",
    "mms = sklearn.preprocessing.MinMaxScaler()\n",
    "\n",
    "mms.fit(train_subset)\n",
    "\n",
    "train_mms = mms.transform(train_subset)"
   ]
  },
  {
   "cell_type": "code",
   "execution_count": 9,
   "id": "dbc9a4fa",
   "metadata": {},
   "outputs": [
    {
     "data": {
      "text/html": [
       "<div>\n",
       "<style scoped>\n",
       "    .dataframe tbody tr th:only-of-type {\n",
       "        vertical-align: middle;\n",
       "    }\n",
       "\n",
       "    .dataframe tbody tr th {\n",
       "        vertical-align: top;\n",
       "    }\n",
       "\n",
       "    .dataframe thead th {\n",
       "        text-align: right;\n",
       "    }\n",
       "</style>\n",
       "<table border=\"1\" class=\"dataframe\">\n",
       "  <thead>\n",
       "    <tr style=\"text-align: right;\">\n",
       "      <th></th>\n",
       "      <th>bedrooms</th>\n",
       "      <th>bathrooms</th>\n",
       "      <th>sq_ft</th>\n",
       "      <th>year_built</th>\n",
       "      <th>fips</th>\n",
       "    </tr>\n",
       "  </thead>\n",
       "  <tbody>\n",
       "    <tr>\n",
       "      <th>0</th>\n",
       "      <td>0.166667</td>\n",
       "      <td>0.250</td>\n",
       "      <td>0.001523</td>\n",
       "      <td>0.832558</td>\n",
       "      <td>0.0</td>\n",
       "    </tr>\n",
       "    <tr>\n",
       "      <th>1</th>\n",
       "      <td>0.166667</td>\n",
       "      <td>0.250</td>\n",
       "      <td>0.001324</td>\n",
       "      <td>0.706977</td>\n",
       "      <td>0.0</td>\n",
       "    </tr>\n",
       "    <tr>\n",
       "      <th>2</th>\n",
       "      <td>0.166667</td>\n",
       "      <td>0.125</td>\n",
       "      <td>0.001518</td>\n",
       "      <td>0.679070</td>\n",
       "      <td>0.0</td>\n",
       "    </tr>\n",
       "    <tr>\n",
       "      <th>3</th>\n",
       "      <td>0.166667</td>\n",
       "      <td>0.250</td>\n",
       "      <td>0.001472</td>\n",
       "      <td>0.762791</td>\n",
       "      <td>1.0</td>\n",
       "    </tr>\n",
       "    <tr>\n",
       "      <th>4</th>\n",
       "      <td>0.166667</td>\n",
       "      <td>0.250</td>\n",
       "      <td>0.001527</td>\n",
       "      <td>0.744186</td>\n",
       "      <td>0.0</td>\n",
       "    </tr>\n",
       "  </tbody>\n",
       "</table>\n",
       "</div>"
      ],
      "text/plain": [
       "   bedrooms  bathrooms     sq_ft  year_built  fips\n",
       "0  0.166667      0.250  0.001523    0.832558   0.0\n",
       "1  0.166667      0.250  0.001324    0.706977   0.0\n",
       "2  0.166667      0.125  0.001518    0.679070   0.0\n",
       "3  0.166667      0.250  0.001472    0.762791   1.0\n",
       "4  0.166667      0.250  0.001527    0.744186   0.0"
      ]
     },
     "execution_count": 9,
     "metadata": {},
     "output_type": "execute_result"
    }
   ],
   "source": [
    "#Is there a mistake here?\n",
    "pd.DataFrame(train_mms, columns=list(train_subset.columns)).head()"
   ]
  },
  {
   "cell_type": "code",
   "execution_count": 10,
   "id": "0983d119",
   "metadata": {},
   "outputs": [
    {
     "data": {
      "text/plain": [
       "Text(0.5, 1.0, 'Scaled')"
      ]
     },
     "execution_count": 10,
     "metadata": {},
     "output_type": "execute_result"
    },
    {
     "data": {
      "image/png": "[encoded data removed]",
      "text/plain": [
       "<Figure size 936x432 with 2 Axes>"
      ]
     },
     "metadata": {
      "needs_background": "light"
     },
     "output_type": "display_data"
    }
   ],
   "source": [
    "#Visualize the difference between unscaled/scaled data\n",
    "plt.figure(figsize=(13, 6))\n",
    "plt.subplot(121)\n",
    "plt.hist(train_subset['bathrooms'], bins=25, ec='black')\n",
    "plt.title('Original')\n",
    "plt.subplot(122)\n",
    "plt.hist(train_mms[:,1], bins=25, ec='black')\n",
    "plt.title('Scaled')"
   ]
  },
  {
   "cell_type": "code",
   "execution_count": 11,
   "id": "cf2b3b4d",
   "metadata": {},
   "outputs": [],
   "source": [
    "#Assign the standard scaler to a variable and fit/transform the train data\n",
    "ss = sklearn.preprocessing.StandardScaler()\n",
    "\n",
    "ss.fit(train_subset)\n",
    "\n",
    "train_ss = ss.transform(train_subset)"
   ]
  },
  {
   "cell_type": "code",
   "execution_count": 12,
   "id": "30aeb1f3",
   "metadata": {},
   "outputs": [
    {
     "data": {
      "text/plain": [
       "Text(0.5, 1.0, 'Scaled')"
      ]
     },
     "execution_count": 12,
     "metadata": {},
     "output_type": "execute_result"
    },
    {
     "data": {
      "image/png": "[encoded data removed]",
      "text/plain": [
       "<Figure size 936x432 with 2 Axes>"
      ]
     },
     "metadata": {
      "needs_background": "light"
     },
     "output_type": "display_data"
    }
   ],
   "source": [
    "#Visualize the difference\n",
    "plt.figure(figsize=(13, 6))\n",
    "plt.subplot(121)\n",
    "plt.hist(train_subset['bathrooms'], bins=25, ec='black')\n",
    "plt.title('Original')\n",
    "plt.subplot(122)\n",
    "plt.hist(train_ss[:,1], bins=25, ec='black')\n",
    "plt.title('Scaled')"
   ]
  },
  {
   "cell_type": "code",
   "execution_count": 13,
   "id": "c37f13f2",
   "metadata": {},
   "outputs": [],
   "source": [
    "#Assign the robust scaler to a variable and fit/transform the train data\n",
    "rs = sklearn.preprocessing.RobustScaler()\n",
    "\n",
    "rs.fit(train_subset)\n",
    "\n",
    "train_rs = rs.transform(train_subset)"
   ]
  },
  {
   "cell_type": "code",
   "execution_count": 14,
   "id": "93f9df05",
   "metadata": {},
   "outputs": [
    {
     "data": {
      "text/plain": [
       "Text(0.5, 1.0, 'Scaled')"
      ]
     },
     "execution_count": 14,
     "metadata": {},
     "output_type": "execute_result"
    },
    {
     "data": {
      "image/png": "[encoded data removed]",
      "text/plain": [
       "<Figure size 936x432 with 2 Axes>"
      ]
     },
     "metadata": {
      "needs_background": "light"
     },
     "output_type": "display_data"
    }
   ],
   "source": [
    "#Visualize the data before and after robust scaling\n",
    "plt.figure(figsize=(13, 6))\n",
    "plt.subplot(121)\n",
    "plt.hist(train_subset['bathrooms'], bins=25, ec='black')\n",
    "plt.title('Original')\n",
    "plt.subplot(122)\n",
    "plt.hist(train_rs[:,1], bins=25, ec='black')\n",
    "plt.title('Scaled')"
   ]
  },
  {
   "cell_type": "markdown",
   "id": "2feac838",
   "metadata": {},
   "source": [
    "## Exercise 2\n",
    "\n",
    "Apply the .inverse_transform method to your scaled data. Is the resulting dataset the exact same as the original data?"
   ]
  },
  {
   "cell_type": "code",
   "execution_count": 15,
   "id": "1a95b670",
   "metadata": {},
   "outputs": [
    {
     "data": {
      "text/plain": [
       "array([[3.000e+00, 2.000e+00, 1.452e+03, 1.980e+03, 6.037e+03],\n",
       "       [3.000e+00, 2.000e+00, 1.262e+03, 1.953e+03, 6.037e+03],\n",
       "       [3.000e+00, 1.000e+00, 1.447e+03, 1.947e+03, 6.037e+03],\n",
       "       ...,\n",
       "       [3.000e+00, 3.000e+00, 1.517e+03, 1.948e+03, 6.037e+03],\n",
       "       [2.000e+00, 1.000e+00, 1.390e+03, 1.922e+03, 6.037e+03],\n",
       "       [3.000e+00, 2.000e+00, 2.070e+03, 1.977e+03, 6.037e+03]])"
      ]
     },
     "execution_count": 15,
     "metadata": {},
     "output_type": "execute_result"
    }
   ],
   "source": [
    "#Apply inverse_transform\n",
    "rs.inverse_transform(train_rs)"
   ]
  },
  {
   "cell_type": "code",
   "execution_count": 24,
   "id": "7b39fbb8",
   "metadata": {},
   "outputs": [
    {
     "data": {
      "text/html": [
       "<div>\n",
       "<style scoped>\n",
       "    .dataframe tbody tr th:only-of-type {\n",
       "        vertical-align: middle;\n",
       "    }\n",
       "\n",
       "    .dataframe tbody tr th {\n",
       "        vertical-align: top;\n",
       "    }\n",
       "\n",
       "    .dataframe thead th {\n",
       "        text-align: right;\n",
       "    }\n",
       "</style>\n",
       "<table border=\"1\" class=\"dataframe\">\n",
       "  <thead>\n",
       "    <tr style=\"text-align: right;\">\n",
       "      <th></th>\n",
       "      <th>0</th>\n",
       "      <th>1</th>\n",
       "      <th>2</th>\n",
       "      <th>3</th>\n",
       "      <th>4</th>\n",
       "    </tr>\n",
       "  </thead>\n",
       "  <tbody>\n",
       "    <tr>\n",
       "      <th>0</th>\n",
       "      <td>3.0</td>\n",
       "      <td>2.0</td>\n",
       "      <td>1452.0</td>\n",
       "      <td>1980.0</td>\n",
       "      <td>6037.0</td>\n",
       "    </tr>\n",
       "    <tr>\n",
       "      <th>1</th>\n",
       "      <td>3.0</td>\n",
       "      <td>2.0</td>\n",
       "      <td>1262.0</td>\n",
       "      <td>1953.0</td>\n",
       "      <td>6037.0</td>\n",
       "    </tr>\n",
       "    <tr>\n",
       "      <th>2</th>\n",
       "      <td>3.0</td>\n",
       "      <td>1.0</td>\n",
       "      <td>1447.0</td>\n",
       "      <td>1947.0</td>\n",
       "      <td>6037.0</td>\n",
       "    </tr>\n",
       "    <tr>\n",
       "      <th>3</th>\n",
       "      <td>3.0</td>\n",
       "      <td>2.0</td>\n",
       "      <td>1403.0</td>\n",
       "      <td>1965.0</td>\n",
       "      <td>6111.0</td>\n",
       "    </tr>\n",
       "    <tr>\n",
       "      <th>4</th>\n",
       "      <td>3.0</td>\n",
       "      <td>2.0</td>\n",
       "      <td>1456.0</td>\n",
       "      <td>1961.0</td>\n",
       "      <td>6037.0</td>\n",
       "    </tr>\n",
       "    <tr>\n",
       "      <th>...</th>\n",
       "      <td>...</td>\n",
       "      <td>...</td>\n",
       "      <td>...</td>\n",
       "      <td>...</td>\n",
       "      <td>...</td>\n",
       "    </tr>\n",
       "    <tr>\n",
       "      <th>1497103</th>\n",
       "      <td>3.0</td>\n",
       "      <td>2.0</td>\n",
       "      <td>1281.0</td>\n",
       "      <td>1988.0</td>\n",
       "      <td>6037.0</td>\n",
       "    </tr>\n",
       "    <tr>\n",
       "      <th>1497104</th>\n",
       "      <td>4.0</td>\n",
       "      <td>2.0</td>\n",
       "      <td>1630.0</td>\n",
       "      <td>1949.0</td>\n",
       "      <td>6037.0</td>\n",
       "    </tr>\n",
       "    <tr>\n",
       "      <th>1497105</th>\n",
       "      <td>3.0</td>\n",
       "      <td>3.0</td>\n",
       "      <td>1517.0</td>\n",
       "      <td>1948.0</td>\n",
       "      <td>6037.0</td>\n",
       "    </tr>\n",
       "    <tr>\n",
       "      <th>1497106</th>\n",
       "      <td>2.0</td>\n",
       "      <td>1.0</td>\n",
       "      <td>1390.0</td>\n",
       "      <td>1922.0</td>\n",
       "      <td>6037.0</td>\n",
       "    </tr>\n",
       "    <tr>\n",
       "      <th>1497107</th>\n",
       "      <td>3.0</td>\n",
       "      <td>2.0</td>\n",
       "      <td>2070.0</td>\n",
       "      <td>1977.0</td>\n",
       "      <td>6037.0</td>\n",
       "    </tr>\n",
       "  </tbody>\n",
       "</table>\n",
       "<p>1497108 rows × 5 columns</p>\n",
       "</div>"
      ],
      "text/plain": [
       "           0    1       2       3       4\n",
       "0        3.0  2.0  1452.0  1980.0  6037.0\n",
       "1        3.0  2.0  1262.0  1953.0  6037.0\n",
       "2        3.0  1.0  1447.0  1947.0  6037.0\n",
       "3        3.0  2.0  1403.0  1965.0  6111.0\n",
       "4        3.0  2.0  1456.0  1961.0  6037.0\n",
       "...      ...  ...     ...     ...     ...\n",
       "1497103  3.0  2.0  1281.0  1988.0  6037.0\n",
       "1497104  4.0  2.0  1630.0  1949.0  6037.0\n",
       "1497105  3.0  3.0  1517.0  1948.0  6037.0\n",
       "1497106  2.0  1.0  1390.0  1922.0  6037.0\n",
       "1497107  3.0  2.0  2070.0  1977.0  6037.0\n",
       "\n",
       "[1497108 rows x 5 columns]"
      ]
     },
     "execution_count": 24,
     "metadata": {},
     "output_type": "execute_result"
    }
   ],
   "source": [
    "pd.DataFrame(rs.inverse_transform(train_rs))"
   ]
  },
  {
   "cell_type": "code",
   "execution_count": 16,
   "id": "025a6739",
   "metadata": {},
   "outputs": [
    {
     "data": {
      "text/html": [
       "<div>\n",
       "<style scoped>\n",
       "    .dataframe tbody tr th:only-of-type {\n",
       "        vertical-align: middle;\n",
       "    }\n",
       "\n",
       "    .dataframe tbody tr th {\n",
       "        vertical-align: top;\n",
       "    }\n",
       "\n",
       "    .dataframe thead th {\n",
       "        text-align: right;\n",
       "    }\n",
       "</style>\n",
       "<table border=\"1\" class=\"dataframe\">\n",
       "  <thead>\n",
       "    <tr style=\"text-align: right;\">\n",
       "      <th></th>\n",
       "      <th>bedrooms</th>\n",
       "      <th>bathrooms</th>\n",
       "      <th>sq_ft</th>\n",
       "      <th>year_built</th>\n",
       "      <th>fips</th>\n",
       "    </tr>\n",
       "  </thead>\n",
       "  <tbody>\n",
       "    <tr>\n",
       "      <th>1001601</th>\n",
       "      <td>3.0</td>\n",
       "      <td>2.0</td>\n",
       "      <td>1452.0</td>\n",
       "      <td>1980.0</td>\n",
       "      <td>6037.0</td>\n",
       "    </tr>\n",
       "    <tr>\n",
       "      <th>611989</th>\n",
       "      <td>3.0</td>\n",
       "      <td>2.0</td>\n",
       "      <td>1262.0</td>\n",
       "      <td>1953.0</td>\n",
       "      <td>6037.0</td>\n",
       "    </tr>\n",
       "    <tr>\n",
       "      <th>658616</th>\n",
       "      <td>3.0</td>\n",
       "      <td>1.0</td>\n",
       "      <td>1447.0</td>\n",
       "      <td>1947.0</td>\n",
       "      <td>6037.0</td>\n",
       "    </tr>\n",
       "    <tr>\n",
       "      <th>835115</th>\n",
       "      <td>3.0</td>\n",
       "      <td>2.0</td>\n",
       "      <td>1403.0</td>\n",
       "      <td>1965.0</td>\n",
       "      <td>6111.0</td>\n",
       "    </tr>\n",
       "    <tr>\n",
       "      <th>242295</th>\n",
       "      <td>3.0</td>\n",
       "      <td>2.0</td>\n",
       "      <td>1456.0</td>\n",
       "      <td>1961.0</td>\n",
       "      <td>6037.0</td>\n",
       "    </tr>\n",
       "  </tbody>\n",
       "</table>\n",
       "</div>"
      ],
      "text/plain": [
       "         bedrooms  bathrooms   sq_ft  year_built    fips\n",
       "1001601       3.0        2.0  1452.0      1980.0  6037.0\n",
       "611989        3.0        2.0  1262.0      1953.0  6037.0\n",
       "658616        3.0        1.0  1447.0      1947.0  6037.0\n",
       "835115        3.0        2.0  1403.0      1965.0  6111.0\n",
       "242295        3.0        2.0  1456.0      1961.0  6037.0"
      ]
     },
     "execution_count": 16,
     "metadata": {},
     "output_type": "execute_result"
    }
   ],
   "source": [
    "#Compare to the original data\n",
    "train_subset.head()"
   ]
  },
  {
   "cell_type": "markdown",
   "id": "699db69a",
   "metadata": {},
   "source": [
    "## Exercise 3\n",
    "\n",
    "Read the documentation for sklearn's QuantileTransformer. Use normal for the output_distribution and apply this scaler to your data. Visualize the result of your data scaling."
   ]
  },
  {
   "cell_type": "code",
   "execution_count": 17,
   "id": "4b87f4f3",
   "metadata": {},
   "outputs": [],
   "source": [
    "#Assign the quantile transformer to a variable, and fit/transform the training data\n",
    "qt = sklearn.preprocessing.QuantileTransformer(output_distribution='normal')\n",
    "\n",
    "qt.fit(train_subset)\n",
    "\n",
    "train_qt = qt.transform(train_subset)"
   ]
  },
  {
   "cell_type": "code",
   "execution_count": 18,
   "id": "9320467c",
   "metadata": {},
   "outputs": [
    {
     "data": {
      "text/plain": [
       "Text(0.5, 1.0, 'Scaled')"
      ]
     },
     "execution_count": 18,
     "metadata": {},
     "output_type": "execute_result"
    },
    {
     "data": {
      "image/png": "[encoded data removed]",
      "text/plain": [
       "<Figure size 936x432 with 2 Axes>"
      ]
     },
     "metadata": {
      "needs_background": "light"
     },
     "output_type": "display_data"
    }
   ],
   "source": [
    "#Visualize the results of normalized quantile transformation\n",
    "plt.figure(figsize=(13, 6))\n",
    "plt.subplot(121)\n",
    "plt.hist(train_subset['bathrooms'], bins=25, ec='black')\n",
    "plt.title('Original')\n",
    "plt.subplot(122)\n",
    "plt.hist(train_qt[:,1], bins=25, ec='black')\n",
    "plt.title('Scaled')"
   ]
  },
  {
   "cell_type": "markdown",
   "id": "bcf4ac89",
   "metadata": {},
   "source": [
    "## Exercise 4\n",
    "\n",
    "Use the QuantileTransformer, but omit the output_distribution argument. Visualize your results. What do you notice?"
   ]
  },
  {
   "cell_type": "code",
   "execution_count": 19,
   "id": "f23ff728",
   "metadata": {},
   "outputs": [],
   "source": [
    "#Perform the same steps with the quantile transformer, this time without normalization\n",
    "qt2 = sklearn.preprocessing.QuantileTransformer()\n",
    "\n",
    "qt2.fit(train_subset)\n",
    "\n",
    "train_qt2 = qt2.transform(train_subset)"
   ]
  },
  {
   "cell_type": "code",
   "execution_count": 20,
   "id": "69496d76",
   "metadata": {},
   "outputs": [
    {
     "data": {
      "text/plain": [
       "Text(0.5, 1.0, 'Scaled')"
      ]
     },
     "execution_count": 20,
     "metadata": {},
     "output_type": "execute_result"
    },
    {
     "data": {
      "image/png": "[encoded data removed]",
      "text/plain": [
       "<Figure size 936x432 with 2 Axes>"
      ]
     },
     "metadata": {
      "needs_background": "light"
     },
     "output_type": "display_data"
    }
   ],
   "source": [
    "#Visualize the results\n",
    "plt.figure(figsize=(13, 6))\n",
    "plt.subplot(121)\n",
    "plt.hist(train_subset['bathrooms'], bins=25, ec='black')\n",
    "plt.title('Original')\n",
    "plt.subplot(122)\n",
    "plt.hist(train_qt2[:,1], bins=25, ec='black')\n",
    "plt.title('Scaled')"
   ]
  },
  {
   "cell_type": "markdown",
   "id": "243f7341",
   "metadata": {},
   "source": [
    "Since I already removed most outliers during the brief exploration phase, I will employ the MinMaxScaler on my dataset."
   ]
  },
  {
   "cell_type": "markdown",
   "id": "0cb188d4",
   "metadata": {},
   "source": [
    "## Exercise 5\n",
    "\n",
    "Based on the work you've done, choose a scaling method for your dataset. Write a function within your prepare.py that accepts as input the train, validate, and test data splits, and returns the scaled versions of each. Be sure to only learn the parameters for scaling from your training data!"
   ]
  },
  {
   "cell_type": "code",
   "execution_count": 21,
   "id": "94024e3d",
   "metadata": {},
   "outputs": [],
   "source": [
    "#Import dependencies\n",
    "from sklearn.preprocessing import MinMaxScaler\n",
    "\n",
    "#Define function to scale all data based on the train subset\n",
    "def scale_data(train, validate, test):\n",
    "    \n",
    "    scale_columns = ['bedrooms', 'bathrooms', 'sq_ft']\n",
    "    \n",
    "    train_scaled = train.copy()\n",
    "    validate_scaled = validate.copy()\n",
    "    test_scaled = test.copy()\n",
    "    \n",
    "    mms = MinMaxScaler()\n",
    "    \n",
    "    mms.fit(train[scale_columns])\n",
    "    \n",
    "    train_scaled[scale_columns] = mms.transform(train[scale_columns])\n",
    "    validate_scaled[scale_columns] = mms.transform(validate[scale_columns])\n",
    "    test_scaled[scale_columns] = mms.transform(test[scale_columns])\n",
    "    \n",
    "    return train_scaled, validate_scaled, test_scaled"
   ]
  },
  {
   "cell_type": "code",
   "execution_count": 22,
   "id": "10fcb248",
   "metadata": {},
   "outputs": [],
   "source": [
    "#Test my function\n",
    "train_s, valid_s, test_s = scale_data(train, valid, test)"
   ]
  },
  {
   "cell_type": "code",
   "execution_count": 23,
   "id": "bb1868c3",
   "metadata": {},
   "outputs": [
    {
     "data": {
      "text/html": [
       "<div>\n",
       "<style scoped>\n",
       "    .dataframe tbody tr th:only-of-type {\n",
       "        vertical-align: middle;\n",
       "    }\n",
       "\n",
       "    .dataframe tbody tr th {\n",
       "        vertical-align: top;\n",
       "    }\n",
       "\n",
       "    .dataframe thead th {\n",
       "        text-align: right;\n",
       "    }\n",
       "</style>\n",
       "<table border=\"1\" class=\"dataframe\">\n",
       "  <thead>\n",
       "    <tr style=\"text-align: right;\">\n",
       "      <th></th>\n",
       "      <th>bedrooms</th>\n",
       "      <th>bathrooms</th>\n",
       "      <th>sq_ft</th>\n",
       "      <th>home_value</th>\n",
       "      <th>year_built</th>\n",
       "      <th>fips</th>\n",
       "    </tr>\n",
       "  </thead>\n",
       "  <tbody>\n",
       "    <tr>\n",
       "      <th>1001601</th>\n",
       "      <td>0.166667</td>\n",
       "      <td>0.06250</td>\n",
       "      <td>0.001523</td>\n",
       "      <td>241012.0</td>\n",
       "      <td>1980.0</td>\n",
       "      <td>6037.0</td>\n",
       "    </tr>\n",
       "    <tr>\n",
       "      <th>611989</th>\n",
       "      <td>0.166667</td>\n",
       "      <td>0.06250</td>\n",
       "      <td>0.001324</td>\n",
       "      <td>235630.0</td>\n",
       "      <td>1953.0</td>\n",
       "      <td>6037.0</td>\n",
       "    </tr>\n",
       "    <tr>\n",
       "      <th>658616</th>\n",
       "      <td>0.166667</td>\n",
       "      <td>0.03125</td>\n",
       "      <td>0.001518</td>\n",
       "      <td>435123.0</td>\n",
       "      <td>1947.0</td>\n",
       "      <td>6037.0</td>\n",
       "    </tr>\n",
       "    <tr>\n",
       "      <th>835115</th>\n",
       "      <td>0.166667</td>\n",
       "      <td>0.06250</td>\n",
       "      <td>0.001472</td>\n",
       "      <td>268770.0</td>\n",
       "      <td>1965.0</td>\n",
       "      <td>6111.0</td>\n",
       "    </tr>\n",
       "    <tr>\n",
       "      <th>242295</th>\n",
       "      <td>0.166667</td>\n",
       "      <td>0.06250</td>\n",
       "      <td>0.001527</td>\n",
       "      <td>365000.0</td>\n",
       "      <td>1961.0</td>\n",
       "      <td>6037.0</td>\n",
       "    </tr>\n",
       "  </tbody>\n",
       "</table>\n",
       "</div>"
      ],
      "text/plain": [
       "         bedrooms  bathrooms     sq_ft  home_value  year_built    fips\n",
       "1001601  0.166667    0.06250  0.001523    241012.0      1980.0  6037.0\n",
       "611989   0.166667    0.06250  0.001324    235630.0      1953.0  6037.0\n",
       "658616   0.166667    0.03125  0.001518    435123.0      1947.0  6037.0\n",
       "835115   0.166667    0.06250  0.001472    268770.0      1965.0  6111.0\n",
       "242295   0.166667    0.06250  0.001527    365000.0      1961.0  6037.0"
      ]
     },
     "execution_count": 23,
     "metadata": {},
     "output_type": "execute_result"
    }
   ],
   "source": [
    "#See if the results make sense\n",
    "train_s.head()"
   ]
  },
  {
   "cell_type": "code",
   "execution_count": null,
   "id": "a976b441",
   "metadata": {},
   "outputs": [],
   "source": []
  }
 ],
 "metadata": {
  "kernelspec": {
   "display_name": "Python 3 (ipykernel)",
   "language": "python",
   "name": "python3"
  },
  "language_info": {
   "codemirror_mode": {
    "name": "ipython",
    "version": 3
   },
   "file_extension": ".py",
   "mimetype": "text/x-python",
   "name": "python",
   "nbconvert_exporter": "python",
   "pygments_lexer": "ipython3",
   "version": "3.9.12"
  }
 },
 "nbformat": 4,
 "nbformat_minor": 5
}

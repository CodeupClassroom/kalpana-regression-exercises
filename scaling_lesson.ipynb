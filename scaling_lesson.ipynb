{
 "cells": [
  {
   "cell_type": "code",
   "execution_count": 2,
   "id": "dd4ad091-312f-4ba6-babd-fdb7e2981378",
   "metadata": {},
   "outputs": [],
   "source": [
    "%matplotlib inline\n",
    "import matplotlib.pyplot as plt\n",
    "import numpy as np\n",
    "import pandas as pd\n",
    "import pydataset\n",
    "import seaborn as sns\n",
    "from sklearn.neighbors import KNeighborsClassifier\n",
    "from sklearn.preprocessing import MinMaxScaler, StandardScaler, RobustScaler"
   ]
  },
  {
   "cell_type": "markdown",
   "id": "6c069360-074a-445e-a3f9-9fd44970471a",
   "metadata": {},
   "source": [
    "# Scaling\n",
    "\n",
    "Scaling changes the range of features in our dataset.\n",
    "\n",
    "0. tldr\n",
    "\n",
    "    - Use a min-max scaler before you do modeling.\n",
    "    - Generally prefer unscaled data, except in modeling.\n",
    "    - Learn parameters for scaling from the training split.\n",
    "\n",
    "1. Scaling - when, where, what, why, and how\n",
    "\n",
    "    - why\n",
    "        - some model types can be thrown off by different feature scales\n",
    "        - improves most model's implementation\n",
    "        - visualize the combination of 2 variables with different scales\n",
    "        - a better interpretation of the data (e.g. log scaling)\n",
    "        - combining features\n",
    "    - when\n",
    "        - data prep / exploration\n",
    "        - pipeline: prep\n",
    "        - lifecycle: prep/exploration\n",
    "        - when one of the conditions above is met. Otherwise, it's better to work with the original units\n",
    "    - where\n",
    "        - the training dataset\n",
    "        - usually just the independent variables\n",
    "        - indep vars are scaled independently, i.e. the scaling of one feature doesn't affect the scaling of another\n",
    "        - scale whatever goes into the model\n",
    "    - how\n",
    "        - `sklearn.preprocessing` -- requires 2d array\n",
    "        - make the thing, fit the thing, use the thing\n",
    "        - `.fit` to learn parameters, `.transform` to apply the scaling\n",
    "        - seperate scaled dataframes and/or columns"
   ]
  },
  {
   "cell_type": "markdown",
   "id": "c75a373a-110c-4087-be47-65bf8306ebda",
   "metadata": {},
   "source": [
    "## Why Scale? A Motivating Example"
   ]
  },
  {
   "cell_type": "code",
   "execution_count": 3,
   "id": "1617187d-84ae-496a-a30d-49de7302c961",
   "metadata": {},
   "outputs": [
    {
     "name": "stdout",
     "output_type": "stream",
     "text": [
      "train shape: 90 x 3\n",
      "test shape: 10 x 3\n"
     ]
    },
    {
     "data": {
      "text/html": [
       "<div>\n",
       "<style scoped>\n",
       "    .dataframe tbody tr th:only-of-type {\n",
       "        vertical-align: middle;\n",
       "    }\n",
       "\n",
       "    .dataframe tbody tr th {\n",
       "        vertical-align: top;\n",
       "    }\n",
       "\n",
       "    .dataframe thead th {\n",
       "        text-align: right;\n",
       "    }\n",
       "</style>\n",
       "<table border=\"1\" class=\"dataframe\">\n",
       "  <thead>\n",
       "    <tr style=\"text-align: right;\">\n",
       "      <th></th>\n",
       "      <th>flavor</th>\n",
       "      <th>pints</th>\n",
       "      <th>n_sprinkles</th>\n",
       "    </tr>\n",
       "  </thead>\n",
       "  <tbody>\n",
       "    <tr>\n",
       "      <th>0</th>\n",
       "      <td>blueberry</td>\n",
       "      <td>7.675963</td>\n",
       "      <td>921.808798</td>\n",
       "    </tr>\n",
       "    <tr>\n",
       "      <th>1</th>\n",
       "      <td>blueberry</td>\n",
       "      <td>7.129386</td>\n",
       "      <td>1186.329821</td>\n",
       "    </tr>\n",
       "    <tr>\n",
       "      <th>2</th>\n",
       "      <td>pistachio</td>\n",
       "      <td>12.182332</td>\n",
       "      <td>443.310335</td>\n",
       "    </tr>\n",
       "    <tr>\n",
       "      <th>3</th>\n",
       "      <td>pistachio</td>\n",
       "      <td>13.955832</td>\n",
       "      <td>832.502384</td>\n",
       "    </tr>\n",
       "    <tr>\n",
       "      <th>4</th>\n",
       "      <td>chocolate</td>\n",
       "      <td>10.748216</td>\n",
       "      <td>892.000000</td>\n",
       "    </tr>\n",
       "  </tbody>\n",
       "</table>\n",
       "</div>"
      ],
      "text/plain": [
       "      flavor      pints  n_sprinkles\n",
       "0  blueberry   7.675963   921.808798\n",
       "1  blueberry   7.129386  1186.329821\n",
       "2  pistachio  12.182332   443.310335\n",
       "3  pistachio  13.955832   832.502384\n",
       "4  chocolate  10.748216   892.000000"
      ]
     },
     "execution_count": 3,
     "metadata": {},
     "output_type": "execute_result"
    }
   ],
   "source": [
    "train = pd.read_csv('https://gist.githubusercontent.com/zgulde/66989745314d2c68ab62fae13743f094/raw/71635c6281b5e2a36e3eb4578cab277eb09743ec/train.csv')\n",
    "test = pd.read_csv('https://gist.githubusercontent.com/zgulde/66989745314d2c68ab62fae13743f094/raw/71635c6281b5e2a36e3eb4578cab277eb09743ec/test.csv')\n",
    "print('train shape: %d x %d' % train.shape)\n",
    "print('test shape: %d x %d' % test.shape)\n",
    "train.head()"
   ]
  },
  {
   "cell_type": "code",
   "execution_count": 4,
   "id": "0c652848-88d1-419e-9701-f9816ecd1098",
   "metadata": {},
   "outputs": [],
   "source": [
    "X_train, X_test = train[['pints', 'n_sprinkles']], test[['pints', 'n_sprinkles']]\n",
    "y_train, y_test = train.flavor, test.flavor"
   ]
  },
  {
   "cell_type": "code",
   "execution_count": 5,
   "id": "00f552c6-6881-4970-8fb5-e5a717729dde",
   "metadata": {},
   "outputs": [
    {
     "data": {
      "text/plain": [
       "0.3"
      ]
     },
     "execution_count": 5,
     "metadata": {},
     "output_type": "execute_result"
    }
   ],
   "source": [
    "model = KNeighborsClassifier(n_neighbors=3)\n",
    "model.fit(X_train, y_train)\n",
    "model.score(X_test, y_test)"
   ]
  },
  {
   "cell_type": "code",
   "execution_count": 6,
   "id": "55c09071-2fd7-443b-8606-16da40eb21bf",
   "metadata": {},
   "outputs": [],
   "source": [
    "# Create the scaler object\n",
    "scaler = MinMaxScaler()\n",
    "\n",
    "X_train_scaled = scaler.fit_transform(X_train) # Learn from the data, then transform the data\n",
    "\n",
    "X_test_scaled = scaler.transform(X_test) # Take what we learned from train, and transform test with it"
   ]
  },
  {
   "cell_type": "code",
   "execution_count": 7,
   "id": "d1665e86-513a-4ef3-947c-614c1d2a13cc",
   "metadata": {},
   "outputs": [
    {
     "data": {
      "text/plain": [
       "0.8"
      ]
     },
     "execution_count": 7,
     "metadata": {},
     "output_type": "execute_result"
    }
   ],
   "source": [
    "model.fit(X_train_scaled, y_train)\n",
    "model.score(X_test_scaled, y_test)"
   ]
  },
  {
   "cell_type": "code",
   "execution_count": 11,
   "id": "4c1eb262",
   "metadata": {},
   "outputs": [
    {
     "data": {
      "text/html": [
       "<div>\n",
       "<style scoped>\n",
       "    .dataframe tbody tr th:only-of-type {\n",
       "        vertical-align: middle;\n",
       "    }\n",
       "\n",
       "    .dataframe tbody tr th {\n",
       "        vertical-align: top;\n",
       "    }\n",
       "\n",
       "    .dataframe thead th {\n",
       "        text-align: right;\n",
       "    }\n",
       "</style>\n",
       "<table border=\"1\" class=\"dataframe\">\n",
       "  <thead>\n",
       "    <tr style=\"text-align: right;\">\n",
       "      <th></th>\n",
       "      <th>pints</th>\n",
       "      <th>n_sprinkles</th>\n",
       "    </tr>\n",
       "  </thead>\n",
       "  <tbody>\n",
       "    <tr>\n",
       "      <th>0</th>\n",
       "      <td>7.675963</td>\n",
       "      <td>921.808798</td>\n",
       "    </tr>\n",
       "    <tr>\n",
       "      <th>1</th>\n",
       "      <td>7.129386</td>\n",
       "      <td>1186.329821</td>\n",
       "    </tr>\n",
       "    <tr>\n",
       "      <th>2</th>\n",
       "      <td>12.182332</td>\n",
       "      <td>443.310335</td>\n",
       "    </tr>\n",
       "    <tr>\n",
       "      <th>3</th>\n",
       "      <td>13.955832</td>\n",
       "      <td>832.502384</td>\n",
       "    </tr>\n",
       "    <tr>\n",
       "      <th>4</th>\n",
       "      <td>10.748216</td>\n",
       "      <td>892.000000</td>\n",
       "    </tr>\n",
       "  </tbody>\n",
       "</table>\n",
       "</div>"
      ],
      "text/plain": [
       "       pints  n_sprinkles\n",
       "0   7.675963   921.808798\n",
       "1   7.129386  1186.329821\n",
       "2  12.182332   443.310335\n",
       "3  13.955832   832.502384\n",
       "4  10.748216   892.000000"
      ]
     },
     "execution_count": 11,
     "metadata": {},
     "output_type": "execute_result"
    }
   ],
   "source": [
    "X_train.head()"
   ]
  },
  {
   "cell_type": "code",
   "execution_count": 10,
   "id": "e6b48692",
   "metadata": {},
   "outputs": [
    {
     "data": {
      "text/plain": [
       "array([[0.32166942, 0.47369646],\n",
       "       [0.26530034, 0.65844254],\n",
       "       [0.7864154 , 0.13950482],\n",
       "       [0.96931818, 0.41132331],\n",
       "       [0.63851367, 0.45287748]])"
      ]
     },
     "execution_count": 10,
     "metadata": {},
     "output_type": "execute_result"
    }
   ],
   "source": [
    "X_train_scaled[:5]"
   ]
  },
  {
   "cell_type": "markdown",
   "id": "58ff12c7-265b-4190-9384-97fc59db0de5",
   "metadata": {},
   "source": [
    "What's going on?"
   ]
  },
  {
   "cell_type": "code",
   "execution_count": 12,
   "id": "f549a985",
   "metadata": {},
   "outputs": [
    {
     "data": {
      "text/plain": [
       "<seaborn.axisgrid.FacetGrid at 0x7fad2ba9c850>"
      ]
     },
     "execution_count": 12,
     "metadata": {},
     "output_type": "execute_result"
    },
    {
     "data": {
      "image/png": "[encoded data removed]",
      "text/plain": [
       "<Figure size 444.375x360 with 1 Axes>"
      ]
     },
     "metadata": {
      "needs_background": "light"
     },
     "output_type": "display_data"
    }
   ],
   "source": [
    "sns.relplot(data=train, y='n_sprinkles', x='pints', hue='flavor')"
   ]
  },
  {
   "cell_type": "code",
   "execution_count": 13,
   "id": "713914b7-f25f-4dcf-8af8-4fdd52afd033",
   "metadata": {},
   "outputs": [
    {
     "data": {
      "text/plain": [
       "(-800.0, 800.0)"
      ]
     },
     "execution_count": 13,
     "metadata": {},
     "output_type": "execute_result"
    },
    {
     "data": {
      "image/png": "[encoded data removed]",
      "text/plain": [
       "<Figure size 444.375x360 with 1 Axes>"
      ]
     },
     "metadata": {
      "needs_background": "light"
     },
     "output_type": "display_data"
    }
   ],
   "source": [
    "sns.relplot(data=train, y='n_sprinkles', x='pints', hue='flavor')\n",
    "plt.xlim(-800, 800)"
   ]
  },
  {
   "cell_type": "markdown",
   "id": "372900b4-0f50-4fc1-8a81-622c4272eb9c",
   "metadata": {},
   "source": [
    "Distance between 2 points\n",
    "\n",
    "$$\n",
    "\\sqrt{(x_2 - x_1)^2 + (y_2 - y_1)^2}\n",
    "$$"
   ]
  },
  {
   "cell_type": "markdown",
   "id": "98eaa8e4-b723-4a52-a756-55b678bf53fa",
   "metadata": {},
   "source": [
    "> One person's magic is another person's engineering."
   ]
  },
  {
   "cell_type": "markdown",
   "id": "3b89acc8-659f-4d1e-a286-3df74c2b4561",
   "metadata": {},
   "source": [
    "### Another Example"
   ]
  },
  {
   "cell_type": "code",
   "execution_count": 14,
   "id": "0f0e8fae-c0c5-43f4-bea7-09b7fab0084d",
   "metadata": {},
   "outputs": [
    {
     "data": {
      "text/html": [
       "<div>\n",
       "<style scoped>\n",
       "    .dataframe tbody tr th:only-of-type {\n",
       "        vertical-align: middle;\n",
       "    }\n",
       "\n",
       "    .dataframe tbody tr th {\n",
       "        vertical-align: top;\n",
       "    }\n",
       "\n",
       "    .dataframe thead th {\n",
       "        text-align: right;\n",
       "    }\n",
       "</style>\n",
       "<table border=\"1\" class=\"dataframe\">\n",
       "  <thead>\n",
       "    <tr style=\"text-align: right;\">\n",
       "      <th></th>\n",
       "      <th>gender</th>\n",
       "      <th>education</th>\n",
       "      <th>age</th>\n",
       "      <th>ACT</th>\n",
       "      <th>SATV</th>\n",
       "      <th>SATQ</th>\n",
       "    </tr>\n",
       "  </thead>\n",
       "  <tbody>\n",
       "    <tr>\n",
       "      <th>29442</th>\n",
       "      <td>2</td>\n",
       "      <td>3</td>\n",
       "      <td>19</td>\n",
       "      <td>24</td>\n",
       "      <td>500</td>\n",
       "      <td>500.0</td>\n",
       "    </tr>\n",
       "    <tr>\n",
       "      <th>29457</th>\n",
       "      <td>2</td>\n",
       "      <td>3</td>\n",
       "      <td>23</td>\n",
       "      <td>35</td>\n",
       "      <td>600</td>\n",
       "      <td>500.0</td>\n",
       "    </tr>\n",
       "    <tr>\n",
       "      <th>29498</th>\n",
       "      <td>2</td>\n",
       "      <td>3</td>\n",
       "      <td>20</td>\n",
       "      <td>21</td>\n",
       "      <td>480</td>\n",
       "      <td>470.0</td>\n",
       "    </tr>\n",
       "    <tr>\n",
       "      <th>29503</th>\n",
       "      <td>1</td>\n",
       "      <td>4</td>\n",
       "      <td>27</td>\n",
       "      <td>26</td>\n",
       "      <td>550</td>\n",
       "      <td>520.0</td>\n",
       "    </tr>\n",
       "    <tr>\n",
       "      <th>29504</th>\n",
       "      <td>1</td>\n",
       "      <td>2</td>\n",
       "      <td>33</td>\n",
       "      <td>31</td>\n",
       "      <td>600</td>\n",
       "      <td>550.0</td>\n",
       "    </tr>\n",
       "  </tbody>\n",
       "</table>\n",
       "</div>"
      ],
      "text/plain": [
       "       gender  education  age  ACT  SATV   SATQ\n",
       "29442       2          3   19   24   500  500.0\n",
       "29457       2          3   23   35   600  500.0\n",
       "29498       2          3   20   21   480  470.0\n",
       "29503       1          4   27   26   550  520.0\n",
       "29504       1          2   33   31   600  550.0"
      ]
     },
     "execution_count": 14,
     "metadata": {},
     "output_type": "execute_result"
    }
   ],
   "source": [
    "df = pydataset.data('sat.act')\n",
    "df.head()"
   ]
  },
  {
   "cell_type": "code",
   "execution_count": 15,
   "id": "62f3b3af-6d22-4842-86c9-08ddeb412368",
   "metadata": {},
   "outputs": [
    {
     "data": {
      "text/plain": [
       "<AxesSubplot:xlabel='gender'>"
      ]
     },
     "execution_count": 15,
     "metadata": {},
     "output_type": "execute_result"
    },
    {
     "data": {
      "image/png": "[encoded data removed]",
      "text/plain": [
       "<Figure size 792x432 with 1 Axes>"
      ]
     },
     "metadata": {
      "needs_background": "light"
     },
     "output_type": "display_data"
    }
   ],
   "source": [
    "df[['gender', 'ACT', 'SATV', 'SATQ']].groupby('gender').mean().plot.bar(figsize=(11, 6), ec='black', width=.9)"
   ]
  },
  {
   "cell_type": "code",
   "execution_count": 16,
   "id": "085a4902-9dad-4e56-891d-8e071f6b0b93",
   "metadata": {},
   "outputs": [
    {
     "data": {
      "text/plain": [
       "<AxesSubplot:xlabel='gender'>"
      ]
     },
     "execution_count": 16,
     "metadata": {},
     "output_type": "execute_result"
    },
    {
     "data": {
      "image/png": "[encoded data removed]",
      "text/plain": [
       "<Figure size 792x432 with 1 Axes>"
      ]
     },
     "metadata": {
      "needs_background": "light"
     },
     "output_type": "display_data"
    }
   ],
   "source": [
    "from sklearn.preprocessing import StandardScaler, RobustScaler\n",
    "\n",
    "cols = ['education', 'age', 'ACT', 'SATQ', 'SATV']\n",
    "scaler = StandardScaler()\n",
    "df[cols] = scaler.fit_transform(df[cols])\n",
    "df[['gender', 'ACT', 'SATV', 'SATQ']].groupby('gender').mean().plot.bar(figsize=(11, 6), ec='black', width=.95)"
   ]
  },
  {
   "cell_type": "markdown",
   "id": "a898f15b-5a5b-4616-88f8-57a6dac887b0",
   "metadata": {},
   "source": [
    "## Linear Scaling\n",
    "\n",
    "- Units are changed, but the distance between points is preserved.\n",
    "\n",
    "- MinMax: everything between 0 and 1\n",
    "\n",
    "    $$ x' = \\frac{x - \\text{max}(x)}{\\text{max}(x) - \\text{min}(x)} $$\n",
    "\n",
    "- Standard: a zscore, standard deviations from the mean, **center** + **scale**\n",
    "\n",
    "    $$ x' = \\frac{x - \\bar{x}}{s_x} $$\n",
    "\n",
    "    - **centering**: subtracting the mean\n",
    "    - **scaling**: dividing by the standard deviation\n",
    "\n",
    "- Robust: robust to and preserves outliers\n",
    "\n",
    "    $$ x' = \\frac{x - \\text{med}(x)}{\\text{IQR}_x} $$"
   ]
  },
  {
   "cell_type": "markdown",
   "id": "ab28a84b-645f-4ac5-a3a0-577429c7167d",
   "metadata": {},
   "source": [
    "When scaling a single column, make sure to pass it to the scaler object as a dataframe, not as a series."
   ]
  },
  {
   "cell_type": "code",
   "execution_count": 17,
   "id": "4c23c067",
   "metadata": {},
   "outputs": [],
   "source": [
    "scaling_example = pd.DataFrame()\n",
    "scaling_example['x1'] = np.arange(1, 11)\n",
    "scaling_example['x2'] = [-100, -1, 0, 1, 2, 3, 4, 5, 100, 1000]"
   ]
  },
  {
   "cell_type": "code",
   "execution_count": 18,
   "id": "055d53cc",
   "metadata": {},
   "outputs": [
    {
     "data": {
      "text/html": [
       "<div>\n",
       "<style scoped>\n",
       "    .dataframe tbody tr th:only-of-type {\n",
       "        vertical-align: middle;\n",
       "    }\n",
       "\n",
       "    .dataframe tbody tr th {\n",
       "        vertical-align: top;\n",
       "    }\n",
       "\n",
       "    .dataframe thead th {\n",
       "        text-align: right;\n",
       "    }\n",
       "</style>\n",
       "<table border=\"1\" class=\"dataframe\">\n",
       "  <thead>\n",
       "    <tr style=\"text-align: right;\">\n",
       "      <th></th>\n",
       "      <th>x1</th>\n",
       "      <th>x2</th>\n",
       "    </tr>\n",
       "  </thead>\n",
       "  <tbody>\n",
       "    <tr>\n",
       "      <th>0</th>\n",
       "      <td>1</td>\n",
       "      <td>-100</td>\n",
       "    </tr>\n",
       "    <tr>\n",
       "      <th>1</th>\n",
       "      <td>2</td>\n",
       "      <td>-1</td>\n",
       "    </tr>\n",
       "    <tr>\n",
       "      <th>2</th>\n",
       "      <td>3</td>\n",
       "      <td>0</td>\n",
       "    </tr>\n",
       "    <tr>\n",
       "      <th>3</th>\n",
       "      <td>4</td>\n",
       "      <td>1</td>\n",
       "    </tr>\n",
       "    <tr>\n",
       "      <th>4</th>\n",
       "      <td>5</td>\n",
       "      <td>2</td>\n",
       "    </tr>\n",
       "    <tr>\n",
       "      <th>5</th>\n",
       "      <td>6</td>\n",
       "      <td>3</td>\n",
       "    </tr>\n",
       "    <tr>\n",
       "      <th>6</th>\n",
       "      <td>7</td>\n",
       "      <td>4</td>\n",
       "    </tr>\n",
       "    <tr>\n",
       "      <th>7</th>\n",
       "      <td>8</td>\n",
       "      <td>5</td>\n",
       "    </tr>\n",
       "    <tr>\n",
       "      <th>8</th>\n",
       "      <td>9</td>\n",
       "      <td>100</td>\n",
       "    </tr>\n",
       "    <tr>\n",
       "      <th>9</th>\n",
       "      <td>10</td>\n",
       "      <td>1000</td>\n",
       "    </tr>\n",
       "  </tbody>\n",
       "</table>\n",
       "</div>"
      ],
      "text/plain": [
       "   x1    x2\n",
       "0   1  -100\n",
       "1   2    -1\n",
       "2   3     0\n",
       "3   4     1\n",
       "4   5     2\n",
       "5   6     3\n",
       "6   7     4\n",
       "7   8     5\n",
       "8   9   100\n",
       "9  10  1000"
      ]
     },
     "execution_count": 18,
     "metadata": {},
     "output_type": "execute_result"
    }
   ],
   "source": [
    "scaling_example"
   ]
  },
  {
   "cell_type": "code",
   "execution_count": 19,
   "id": "72d8fbaf-2156-4d15-b962-fcf9fd0214ef",
   "metadata": {},
   "outputs": [
    {
     "data": {
      "text/plain": [
       "array([[0.        ],\n",
       "       [0.11111111],\n",
       "       [0.22222222],\n",
       "       [0.33333333],\n",
       "       [0.44444444],\n",
       "       [0.55555556],\n",
       "       [0.66666667],\n",
       "       [0.77777778],\n",
       "       [0.88888889],\n",
       "       [1.        ]])"
      ]
     },
     "execution_count": 19,
     "metadata": {},
     "output_type": "execute_result"
    }
   ],
   "source": [
    "scaler = MinMaxScaler()\n",
    "scaler.fit_transform(scaling_example[['x1']])"
   ]
  },
  {
   "cell_type": "code",
   "execution_count": 20,
   "id": "568bcc64-51ad-4189-968e-f638b36976be",
   "metadata": {},
   "outputs": [],
   "source": [
    "scaler = MinMaxScaler()\n",
    "scaling_example[['x1_minmax', 'x2_minmax']] = scaler.fit_transform(scaling_example[['x1', 'x2']])\n",
    "\n",
    "scaler = StandardScaler()\n",
    "scaling_example[['x1_standard', 'x2_standard']] = scaler.fit_transform(scaling_example[['x1', 'x2']])\n",
    "\n",
    "scaler = RobustScaler()\n",
    "scaling_example[['x1_robust', 'x2_robust']] = scaler.fit_transform(scaling_example[['x1', 'x2']])"
   ]
  },
  {
   "cell_type": "code",
   "execution_count": 21,
   "id": "99483969-09d9-4da8-ab66-09ac7b5e39fd",
   "metadata": {},
   "outputs": [
    {
     "data": {
      "text/html": [
       "<div>\n",
       "<style scoped>\n",
       "    .dataframe tbody tr th:only-of-type {\n",
       "        vertical-align: middle;\n",
       "    }\n",
       "\n",
       "    .dataframe tbody tr th {\n",
       "        vertical-align: top;\n",
       "    }\n",
       "\n",
       "    .dataframe thead th {\n",
       "        text-align: right;\n",
       "    }\n",
       "</style>\n",
       "<table border=\"1\" class=\"dataframe\">\n",
       "  <thead>\n",
       "    <tr style=\"text-align: right;\">\n",
       "      <th></th>\n",
       "      <th>x1</th>\n",
       "      <th>x1_minmax</th>\n",
       "      <th>x1_robust</th>\n",
       "      <th>x1_standard</th>\n",
       "      <th>x2</th>\n",
       "      <th>x2_minmax</th>\n",
       "      <th>x2_robust</th>\n",
       "      <th>x2_standard</th>\n",
       "    </tr>\n",
       "  </thead>\n",
       "  <tbody>\n",
       "    <tr>\n",
       "      <th>0</th>\n",
       "      <td>1</td>\n",
       "      <td>0.000000</td>\n",
       "      <td>-1.000000</td>\n",
       "      <td>-1.566699</td>\n",
       "      <td>-100</td>\n",
       "      <td>0.000000</td>\n",
       "      <td>-22.777778</td>\n",
       "      <td>-0.664996</td>\n",
       "    </tr>\n",
       "    <tr>\n",
       "      <th>1</th>\n",
       "      <td>2</td>\n",
       "      <td>0.111111</td>\n",
       "      <td>-0.777778</td>\n",
       "      <td>-1.218544</td>\n",
       "      <td>-1</td>\n",
       "      <td>0.090000</td>\n",
       "      <td>-0.777778</td>\n",
       "      <td>-0.338111</td>\n",
       "    </tr>\n",
       "    <tr>\n",
       "      <th>2</th>\n",
       "      <td>3</td>\n",
       "      <td>0.222222</td>\n",
       "      <td>-0.555556</td>\n",
       "      <td>-0.870388</td>\n",
       "      <td>0</td>\n",
       "      <td>0.090909</td>\n",
       "      <td>-0.555556</td>\n",
       "      <td>-0.334809</td>\n",
       "    </tr>\n",
       "    <tr>\n",
       "      <th>3</th>\n",
       "      <td>4</td>\n",
       "      <td>0.333333</td>\n",
       "      <td>-0.333333</td>\n",
       "      <td>-0.522233</td>\n",
       "      <td>1</td>\n",
       "      <td>0.091818</td>\n",
       "      <td>-0.333333</td>\n",
       "      <td>-0.331507</td>\n",
       "    </tr>\n",
       "    <tr>\n",
       "      <th>4</th>\n",
       "      <td>5</td>\n",
       "      <td>0.444444</td>\n",
       "      <td>-0.111111</td>\n",
       "      <td>-0.174078</td>\n",
       "      <td>2</td>\n",
       "      <td>0.092727</td>\n",
       "      <td>-0.111111</td>\n",
       "      <td>-0.328205</td>\n",
       "    </tr>\n",
       "    <tr>\n",
       "      <th>5</th>\n",
       "      <td>6</td>\n",
       "      <td>0.555556</td>\n",
       "      <td>0.111111</td>\n",
       "      <td>0.174078</td>\n",
       "      <td>3</td>\n",
       "      <td>0.093636</td>\n",
       "      <td>0.111111</td>\n",
       "      <td>-0.324904</td>\n",
       "    </tr>\n",
       "    <tr>\n",
       "      <th>6</th>\n",
       "      <td>7</td>\n",
       "      <td>0.666667</td>\n",
       "      <td>0.333333</td>\n",
       "      <td>0.522233</td>\n",
       "      <td>4</td>\n",
       "      <td>0.094545</td>\n",
       "      <td>0.333333</td>\n",
       "      <td>-0.321602</td>\n",
       "    </tr>\n",
       "    <tr>\n",
       "      <th>7</th>\n",
       "      <td>8</td>\n",
       "      <td>0.777778</td>\n",
       "      <td>0.555556</td>\n",
       "      <td>0.870388</td>\n",
       "      <td>5</td>\n",
       "      <td>0.095455</td>\n",
       "      <td>0.555556</td>\n",
       "      <td>-0.318300</td>\n",
       "    </tr>\n",
       "    <tr>\n",
       "      <th>8</th>\n",
       "      <td>9</td>\n",
       "      <td>0.888889</td>\n",
       "      <td>0.777778</td>\n",
       "      <td>1.218544</td>\n",
       "      <td>100</td>\n",
       "      <td>0.181818</td>\n",
       "      <td>21.666667</td>\n",
       "      <td>-0.004623</td>\n",
       "    </tr>\n",
       "    <tr>\n",
       "      <th>9</th>\n",
       "      <td>10</td>\n",
       "      <td>1.000000</td>\n",
       "      <td>1.000000</td>\n",
       "      <td>1.566699</td>\n",
       "      <td>1000</td>\n",
       "      <td>1.000000</td>\n",
       "      <td>221.666667</td>\n",
       "      <td>2.967056</td>\n",
       "    </tr>\n",
       "  </tbody>\n",
       "</table>\n",
       "</div>"
      ],
      "text/plain": [
       "   x1  x1_minmax  x1_robust  x1_standard    x2  x2_minmax   x2_robust  \\\n",
       "0   1   0.000000  -1.000000    -1.566699  -100   0.000000  -22.777778   \n",
       "1   2   0.111111  -0.777778    -1.218544    -1   0.090000   -0.777778   \n",
       "2   3   0.222222  -0.555556    -0.870388     0   0.090909   -0.555556   \n",
       "3   4   0.333333  -0.333333    -0.522233     1   0.091818   -0.333333   \n",
       "4   5   0.444444  -0.111111    -0.174078     2   0.092727   -0.111111   \n",
       "5   6   0.555556   0.111111     0.174078     3   0.093636    0.111111   \n",
       "6   7   0.666667   0.333333     0.522233     4   0.094545    0.333333   \n",
       "7   8   0.777778   0.555556     0.870388     5   0.095455    0.555556   \n",
       "8   9   0.888889   0.777778     1.218544   100   0.181818   21.666667   \n",
       "9  10   1.000000   1.000000     1.566699  1000   1.000000  221.666667   \n",
       "\n",
       "   x2_standard  \n",
       "0    -0.664996  \n",
       "1    -0.338111  \n",
       "2    -0.334809  \n",
       "3    -0.331507  \n",
       "4    -0.328205  \n",
       "5    -0.324904  \n",
       "6    -0.321602  \n",
       "7    -0.318300  \n",
       "8    -0.004623  \n",
       "9     2.967056  "
      ]
     },
     "execution_count": 21,
     "metadata": {},
     "output_type": "execute_result"
    }
   ],
   "source": [
    "scaling_example[sorted(scaling_example)] # sort columns alphabetically"
   ]
  },
  {
   "cell_type": "code",
   "execution_count": 22,
   "id": "bec6f794-fc23-4a1d-8f9f-bd7ff0b49bdb",
   "metadata": {},
   "outputs": [
    {
     "data": {
      "text/plain": [
       "<matplotlib.collections.PathCollection at 0x7fad301b97c0>"
      ]
     },
     "execution_count": 22,
     "metadata": {},
     "output_type": "execute_result"
    },
    {
     "data": {
      "image/png": "[encoded data removed]",
      "text/plain": [
       "<Figure size 432x288 with 1 Axes>"
      ]
     },
     "metadata": {
      "needs_background": "light"
     },
     "output_type": "display_data"
    }
   ],
   "source": [
    "plt.scatter(scaling_example.x1, scaling_example.x2)"
   ]
  },
  {
   "cell_type": "code",
   "execution_count": 23,
   "id": "e15cce3f-0753-4fbc-b1be-a98d48a42b0c",
   "metadata": {},
   "outputs": [
    {
     "data": {
      "text/plain": [
       "<matplotlib.collections.PathCollection at 0x7fad2b1aef10>"
      ]
     },
     "execution_count": 23,
     "metadata": {},
     "output_type": "execute_result"
    },
    {
     "data": {
      "image/png": "[encoded data removed]",
      "text/plain": [
       "<Figure size 432x288 with 1 Axes>"
      ]
     },
     "metadata": {
      "needs_background": "light"
     },
     "output_type": "display_data"
    }
   ],
   "source": [
    "plt.scatter(scaling_example.x1_minmax, scaling_example.x2_minmax)"
   ]
  },
  {
   "cell_type": "code",
   "execution_count": 24,
   "id": "4f09adb5",
   "metadata": {},
   "outputs": [
    {
     "data": {
      "text/plain": [
       "<matplotlib.collections.PathCollection at 0x7fad2fa18940>"
      ]
     },
     "execution_count": 24,
     "metadata": {},
     "output_type": "execute_result"
    },
    {
     "data": {
      "image/png": "[encoded data removed]",
      "text/plain": [
       "<Figure size 432x288 with 1 Axes>"
      ]
     },
     "metadata": {
      "needs_background": "light"
     },
     "output_type": "display_data"
    }
   ],
   "source": [
    "plt.scatter(scaling_example.x1_robust, scaling_example.x2_robust)"
   ]
  },
  {
   "cell_type": "code",
   "execution_count": 25,
   "id": "6d127c94",
   "metadata": {},
   "outputs": [
    {
     "data": {
      "text/plain": [
       "<matplotlib.collections.PathCollection at 0x7fad302902b0>"
      ]
     },
     "execution_count": 25,
     "metadata": {},
     "output_type": "execute_result"
    },
    {
     "data": {
      "image/png": "[encoded data removed]",
      "text/plain": [
       "<Figure size 432x288 with 1 Axes>"
      ]
     },
     "metadata": {
      "needs_background": "light"
     },
     "output_type": "display_data"
    }
   ],
   "source": [
    "plt.scatter(scaling_example.x1_standard, scaling_example.x2_standard)"
   ]
  },
  {
   "cell_type": "markdown",
   "id": "b8010d53-b92a-4f41-ae48-7b77a015b592",
   "metadata": {},
   "source": [
    "## Non-linear Scaling\n",
    "\n",
    "- The distance between points is **not** preserved, but order is\n",
    "- Not as common as linear scalers\n",
    "- In sklearn: power transformation: box-cox, yeo-johnson; quantile transformation\n",
    "- Log\n",
    "\n",
    "    $$ x' = \\log_b{x} $$\n",
    "\n",
    "    $$ b^{x'} = x $$\n",
    "\n",
    "    Sometimes you can just set the x/y scale w/ matplotlib instead of\n",
    "    actually transforming the data"
   ]
  },
  {
   "cell_type": "code",
   "execution_count": 29,
   "id": "d3ab5024-b502-428b-96fb-50b417847ef6",
   "metadata": {},
   "outputs": [
    {
     "data": {
      "image/png": "[encoded data removed]",
      "text/plain": [
       "<Figure size 720x360 with 1 Axes>"
      ]
     },
     "metadata": {
      "needs_background": "light"
     },
     "output_type": "display_data"
    }
   ],
   "source": [
    "np.random.seed(1)\n",
    "n = 100\n",
    "\n",
    "df = pd.DataFrame()\n",
    "df['x1'] = np.random.randn(n)\n",
    "df['x2'] = 10 ** (df.x1 + np.random.randn(n) * .5)\n",
    "\n",
    "fig, ax = plt.subplots(figsize=(10, 5))\n",
    "ax.scatter(df.x1, df.x2)\n",
    "ax.set_yscale('log')"
   ]
  },
  {
   "cell_type": "code",
   "execution_count": 27,
   "id": "4dbbebdb-99dd-41ae-bd62-afaf87686a1f",
   "metadata": {},
   "outputs": [
    {
     "data": {
      "text/plain": [
       "<AxesSubplot:ylabel='Frequency'>"
      ]
     },
     "execution_count": 27,
     "metadata": {},
     "output_type": "execute_result"
    },
    {
     "data": {
      "image/png": "[encoded data removed]",
      "text/plain": [
       "<Figure size 432x288 with 1 Axes>"
      ]
     },
     "metadata": {
      "needs_background": "light"
     },
     "output_type": "display_data"
    }
   ],
   "source": [
    "df.x2.plot.hist()"
   ]
  },
  {
   "cell_type": "code",
   "execution_count": 30,
   "id": "6b93c019-7cee-4964-98fb-9f146c82b87c",
   "metadata": {},
   "outputs": [
    {
     "data": {
      "text/plain": [
       "(array([ 4.,  6., 12., 16., 24., 22.,  8.,  6.,  1.,  1.]),\n",
       " array([-5.39881784, -4.10347509, -2.80813235, -1.5127896 , -0.21744686,\n",
       "         1.07789589,  2.37323864,  3.66858138,  4.96392413,  6.25926687,\n",
       "         7.55460962]),\n",
       " <BarContainer object of 10 artists>)"
      ]
     },
     "execution_count": 30,
     "metadata": {},
     "output_type": "execute_result"
    },
    {
     "data": {
      "image/png": "[encoded data removed]",
      "text/plain": [
       "<Figure size 432x288 with 1 Axes>"
      ]
     },
     "metadata": {
      "needs_background": "light"
     },
     "output_type": "display_data"
    }
   ],
   "source": [
    "plt.hist(np.log(df.x2))"
   ]
  },
  {
   "cell_type": "markdown",
   "id": "752b5a0b-6e0e-4314-ac31-0841593fa2a0",
   "metadata": {},
   "source": [
    "If we want to predict $y$ based on $x$ and there is a linear relationship between them, the model\n",
    "\n",
    "$$ y = mx + b $$\n",
    "\n",
    "works pretty well.\n",
    "\n",
    "However, if the relationship is exponential, that model does not make great predictions, but instead we could transform x:\n",
    "\n",
    "$$ y = m(log(x)) + b $$\n",
    "\n",
    "And still get decent predictions"
   ]
  },
  {
   "cell_type": "markdown",
   "id": "909eff1a-86f1-44e9-9727-c722d686152a",
   "metadata": {},
   "source": [
    "## Futher Reading\n",
    "\n",
    "- [Interactive Scaling Demo](https://stats-demos.zach.wiki/scaling)\n",
    "- [min max scaling example](https://stats-demos.zach.wiki/static/min-max-scaling.mp4)\n",
    "- [centering and scaling example](https://stats-demos.zach.wiki/static/center-and-scale.mp4)"
   ]
  }
 ],
 "metadata": {
  "kernelspec": {
   "display_name": "Python 3",
   "language": "python",
   "name": "python3"
  },
  "language_info": {
   "codemirror_mode": {
    "name": "ipython",
    "version": 3
   },
   "file_extension": ".py",
   "mimetype": "text/x-python",
   "name": "python",
   "nbconvert_exporter": "python",
   "pygments_lexer": "ipython3",
   "version": "3.8.8"
  }
 },
 "nbformat": 4,
 "nbformat_minor": 5
}

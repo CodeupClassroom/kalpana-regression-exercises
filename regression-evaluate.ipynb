{
 "cells": [
  {
   "cell_type": "markdown",
   "id": "70280820",
   "metadata": {},
   "source": [
    "## Exercises 1 and 2\n",
    "\n",
    "Load your zillow dataset.\n",
    "\n",
    "Fit a linear regression model (ordinary least squares) and compute yhat, predictions of taxvaluedollarcnt using only calfulatedfinishedsqft."
   ]
  },
  {
   "cell_type": "code",
   "execution_count": 1,
   "id": "7c55601e",
   "metadata": {},
   "outputs": [],
   "source": [
    "#Import dependencies\n",
    "import math\n",
    "import pandas as pd\n",
    "import numpy as np\n",
    "import matplotlib.pyplot as plt\n",
    "from sklearn.linear_model import LinearRegression\n",
    "from sklearn.preprocessing import MinMaxScaler\n",
    "from sklearn.metrics import mean_squared_error\n",
    "from sklearn.model_selection import train_test_split\n",
    "\n",
    "from wrangle import wrangle_zillow"
   ]
  },
  {
   "cell_type": "code",
   "execution_count": 2,
   "id": "8eac6619",
   "metadata": {},
   "outputs": [
    {
     "data": {
      "text/html": [
       "<div>\n",
       "<style scoped>\n",
       "    .dataframe tbody tr th:only-of-type {\n",
       "        vertical-align: middle;\n",
       "    }\n",
       "\n",
       "    .dataframe tbody tr th {\n",
       "        vertical-align: top;\n",
       "    }\n",
       "\n",
       "    .dataframe thead th {\n",
       "        text-align: right;\n",
       "    }\n",
       "</style>\n",
       "<table border=\"1\" class=\"dataframe\">\n",
       "  <thead>\n",
       "    <tr style=\"text-align: right;\">\n",
       "      <th></th>\n",
       "      <th>bedrooms</th>\n",
       "      <th>bathrooms</th>\n",
       "      <th>sq_ft</th>\n",
       "      <th>home_value</th>\n",
       "      <th>year_built</th>\n",
       "      <th>tax_amount</th>\n",
       "      <th>fips</th>\n",
       "    </tr>\n",
       "  </thead>\n",
       "  <tbody>\n",
       "    <tr>\n",
       "      <th>0</th>\n",
       "      <td>4.0</td>\n",
       "      <td>2.0</td>\n",
       "      <td>3633.0</td>\n",
       "      <td>296425.0</td>\n",
       "      <td>2005.0</td>\n",
       "      <td>6941.39</td>\n",
       "      <td>6037.0</td>\n",
       "    </tr>\n",
       "    <tr>\n",
       "      <th>1</th>\n",
       "      <td>3.0</td>\n",
       "      <td>4.0</td>\n",
       "      <td>1620.0</td>\n",
       "      <td>847770.0</td>\n",
       "      <td>2011.0</td>\n",
       "      <td>10244.94</td>\n",
       "      <td>6037.0</td>\n",
       "    </tr>\n",
       "    <tr>\n",
       "      <th>2</th>\n",
       "      <td>3.0</td>\n",
       "      <td>2.0</td>\n",
       "      <td>2077.0</td>\n",
       "      <td>646760.0</td>\n",
       "      <td>1926.0</td>\n",
       "      <td>7924.68</td>\n",
       "      <td>6037.0</td>\n",
       "    </tr>\n",
       "    <tr>\n",
       "      <th>3</th>\n",
       "      <td>0.0</td>\n",
       "      <td>0.0</td>\n",
       "      <td>1200.0</td>\n",
       "      <td>5328.0</td>\n",
       "      <td>1972.0</td>\n",
       "      <td>91.60</td>\n",
       "      <td>6037.0</td>\n",
       "    </tr>\n",
       "    <tr>\n",
       "      <th>4</th>\n",
       "      <td>0.0</td>\n",
       "      <td>0.0</td>\n",
       "      <td>171.0</td>\n",
       "      <td>6920.0</td>\n",
       "      <td>1973.0</td>\n",
       "      <td>255.17</td>\n",
       "      <td>6037.0</td>\n",
       "    </tr>\n",
       "  </tbody>\n",
       "</table>\n",
       "</div>"
      ],
      "text/plain": [
       "   bedrooms  bathrooms   sq_ft  home_value  year_built  tax_amount    fips\n",
       "0       4.0        2.0  3633.0    296425.0      2005.0     6941.39  6037.0\n",
       "1       3.0        4.0  1620.0    847770.0      2011.0    10244.94  6037.0\n",
       "2       3.0        2.0  2077.0    646760.0      1926.0     7924.68  6037.0\n",
       "3       0.0        0.0  1200.0      5328.0      1972.0       91.60  6037.0\n",
       "4       0.0        0.0   171.0      6920.0      1973.0      255.17  6037.0"
      ]
     },
     "execution_count": 2,
     "metadata": {},
     "output_type": "execute_result"
    }
   ],
   "source": [
    "#Read in the dataset\n",
    "df = wrangle_zillow()\n",
    "df.head()"
   ]
  },
  {
   "cell_type": "code",
   "execution_count": 3,
   "id": "acab8eda",
   "metadata": {},
   "outputs": [],
   "source": [
    "#Split the dataset\n",
    "seed = 42\n",
    "\n",
    "train, validate = train_test_split(df, test_size=0.2,\n",
    "                                   random_state=seed)"
   ]
  },
  {
   "cell_type": "code",
   "execution_count": 4,
   "id": "1fffa3aa",
   "metadata": {},
   "outputs": [
    {
     "data": {
      "text/html": [
       "<div>\n",
       "<style scoped>\n",
       "    .dataframe tbody tr th:only-of-type {\n",
       "        vertical-align: middle;\n",
       "    }\n",
       "\n",
       "    .dataframe tbody tr th {\n",
       "        vertical-align: top;\n",
       "    }\n",
       "\n",
       "    .dataframe thead th {\n",
       "        text-align: right;\n",
       "    }\n",
       "</style>\n",
       "<table border=\"1\" class=\"dataframe\">\n",
       "  <thead>\n",
       "    <tr style=\"text-align: right;\">\n",
       "      <th></th>\n",
       "      <th>bedrooms</th>\n",
       "      <th>bathrooms</th>\n",
       "      <th>sq_ft</th>\n",
       "      <th>home_value</th>\n",
       "      <th>year_built</th>\n",
       "      <th>tax_amount</th>\n",
       "      <th>fips</th>\n",
       "    </tr>\n",
       "  </thead>\n",
       "  <tbody>\n",
       "    <tr>\n",
       "      <th>173699</th>\n",
       "      <td>3.0</td>\n",
       "      <td>2.0</td>\n",
       "      <td>0.001668</td>\n",
       "      <td>145890.0</td>\n",
       "      <td>2001.0</td>\n",
       "      <td>2652.27</td>\n",
       "      <td>6037.0</td>\n",
       "    </tr>\n",
       "    <tr>\n",
       "      <th>1929078</th>\n",
       "      <td>3.0</td>\n",
       "      <td>2.0</td>\n",
       "      <td>0.001347</td>\n",
       "      <td>103646.0</td>\n",
       "      <td>1956.0</td>\n",
       "      <td>1355.82</td>\n",
       "      <td>6037.0</td>\n",
       "    </tr>\n",
       "    <tr>\n",
       "      <th>1908792</th>\n",
       "      <td>3.0</td>\n",
       "      <td>2.0</td>\n",
       "      <td>0.001896</td>\n",
       "      <td>636371.0</td>\n",
       "      <td>1961.0</td>\n",
       "      <td>8514.79</td>\n",
       "      <td>6037.0</td>\n",
       "    </tr>\n",
       "    <tr>\n",
       "      <th>1685145</th>\n",
       "      <td>3.0</td>\n",
       "      <td>1.0</td>\n",
       "      <td>0.001076</td>\n",
       "      <td>279832.0</td>\n",
       "      <td>1950.0</td>\n",
       "      <td>5207.06</td>\n",
       "      <td>6037.0</td>\n",
       "    </tr>\n",
       "    <tr>\n",
       "      <th>1320396</th>\n",
       "      <td>2.0</td>\n",
       "      <td>1.0</td>\n",
       "      <td>0.001263</td>\n",
       "      <td>364416.0</td>\n",
       "      <td>1905.0</td>\n",
       "      <td>4508.23</td>\n",
       "      <td>6037.0</td>\n",
       "    </tr>\n",
       "  </tbody>\n",
       "</table>\n",
       "</div>"
      ],
      "text/plain": [
       "         bedrooms  bathrooms     sq_ft  home_value  year_built  tax_amount  \\\n",
       "173699        3.0        2.0  0.001668    145890.0      2001.0     2652.27   \n",
       "1929078       3.0        2.0  0.001347    103646.0      1956.0     1355.82   \n",
       "1908792       3.0        2.0  0.001896    636371.0      1961.0     8514.79   \n",
       "1685145       3.0        1.0  0.001076    279832.0      1950.0     5207.06   \n",
       "1320396       2.0        1.0  0.001263    364416.0      1905.0     4508.23   \n",
       "\n",
       "           fips  \n",
       "173699   6037.0  \n",
       "1929078  6037.0  \n",
       "1908792  6037.0  \n",
       "1685145  6037.0  \n",
       "1320396  6037.0  "
      ]
     },
     "execution_count": 4,
     "metadata": {},
     "output_type": "execute_result"
    }
   ],
   "source": [
    "#Create the scaler and fit/transform my square footage column\n",
    "mms = MinMaxScaler()\n",
    "\n",
    "train['sq_ft'] = mms.fit_transform(train[['sq_ft']])\n",
    "\n",
    "train.head()"
   ]
  },
  {
   "cell_type": "code",
   "execution_count": 5,
   "id": "b6514a09",
   "metadata": {},
   "outputs": [],
   "source": [
    "#Drop the columns that aren't relevant to the exercises\n",
    "train.drop(columns=['bedrooms', 'bathrooms', 'year_built', 'tax_amount', 'fips'], inplace=True)"
   ]
  },
  {
   "cell_type": "code",
   "execution_count": 6,
   "id": "50942034",
   "metadata": {},
   "outputs": [],
   "source": [
    "#Create an instance of the model and fit it to my data\n",
    "lm = LinearRegression().fit(train[['sq_ft']],\n",
    "                            train['home_value'])"
   ]
  },
  {
   "cell_type": "code",
   "execution_count": 7,
   "id": "17294b5b",
   "metadata": {},
   "outputs": [
    {
     "data": {
      "text/plain": [
       "array([393361.15041252, 318069.05522031, 446754.56432334, ...,\n",
       "       375399.31070981, 344150.63067905, 511466.39777286])"
      ]
     },
     "execution_count": 7,
     "metadata": {},
     "output_type": "execute_result"
    }
   ],
   "source": [
    "#Generate predictions\n",
    "yhat = lm.predict(train[['sq_ft']])\n",
    "yhat"
   ]
  },
  {
   "cell_type": "code",
   "execution_count": 8,
   "id": "1a6cda89",
   "metadata": {},
   "outputs": [
    {
     "data": {
      "text/html": [
       "<div>\n",
       "<style scoped>\n",
       "    .dataframe tbody tr th:only-of-type {\n",
       "        vertical-align: middle;\n",
       "    }\n",
       "\n",
       "    .dataframe tbody tr th {\n",
       "        vertical-align: top;\n",
       "    }\n",
       "\n",
       "    .dataframe thead th {\n",
       "        text-align: right;\n",
       "    }\n",
       "</style>\n",
       "<table border=\"1\" class=\"dataframe\">\n",
       "  <thead>\n",
       "    <tr style=\"text-align: right;\">\n",
       "      <th></th>\n",
       "      <th>sq_ft</th>\n",
       "      <th>home_value</th>\n",
       "      <th>yhat</th>\n",
       "    </tr>\n",
       "  </thead>\n",
       "  <tbody>\n",
       "    <tr>\n",
       "      <th>173699</th>\n",
       "      <td>0.001668</td>\n",
       "      <td>145890.0</td>\n",
       "      <td>393361.150413</td>\n",
       "    </tr>\n",
       "    <tr>\n",
       "      <th>1929078</th>\n",
       "      <td>0.001347</td>\n",
       "      <td>103646.0</td>\n",
       "      <td>318069.055220</td>\n",
       "    </tr>\n",
       "    <tr>\n",
       "      <th>1908792</th>\n",
       "      <td>0.001896</td>\n",
       "      <td>636371.0</td>\n",
       "      <td>446754.564323</td>\n",
       "    </tr>\n",
       "    <tr>\n",
       "      <th>1685145</th>\n",
       "      <td>0.001076</td>\n",
       "      <td>279832.0</td>\n",
       "      <td>254587.484764</td>\n",
       "    </tr>\n",
       "    <tr>\n",
       "      <th>1320396</th>\n",
       "      <td>0.001263</td>\n",
       "      <td>364416.0</td>\n",
       "      <td>298384.847327</td>\n",
       "    </tr>\n",
       "  </tbody>\n",
       "</table>\n",
       "</div>"
      ],
      "text/plain": [
       "            sq_ft  home_value           yhat\n",
       "173699   0.001668    145890.0  393361.150413\n",
       "1929078  0.001347    103646.0  318069.055220\n",
       "1908792  0.001896    636371.0  446754.564323\n",
       "1685145  0.001076    279832.0  254587.484764\n",
       "1320396  0.001263    364416.0  298384.847327"
      ]
     },
     "execution_count": 8,
     "metadata": {},
     "output_type": "execute_result"
    }
   ],
   "source": [
    "#Add the predictions to my dataframe\n",
    "train['yhat'] = yhat\n",
    "train.head()"
   ]
  },
  {
   "cell_type": "markdown",
   "id": "2068975f",
   "metadata": {},
   "source": [
    "## Exercise 3\n",
    "\n",
    "Plot the residuals for the linear regression model that you made."
   ]
  },
  {
   "cell_type": "code",
   "execution_count": 9,
   "id": "a26743a1",
   "metadata": {},
   "outputs": [
    {
     "data": {
      "text/html": [
       "<div>\n",
       "<style scoped>\n",
       "    .dataframe tbody tr th:only-of-type {\n",
       "        vertical-align: middle;\n",
       "    }\n",
       "\n",
       "    .dataframe tbody tr th {\n",
       "        vertical-align: top;\n",
       "    }\n",
       "\n",
       "    .dataframe thead th {\n",
       "        text-align: right;\n",
       "    }\n",
       "</style>\n",
       "<table border=\"1\" class=\"dataframe\">\n",
       "  <thead>\n",
       "    <tr style=\"text-align: right;\">\n",
       "      <th></th>\n",
       "      <th>sq_ft</th>\n",
       "      <th>home_value</th>\n",
       "      <th>yhat</th>\n",
       "      <th>residuals</th>\n",
       "    </tr>\n",
       "  </thead>\n",
       "  <tbody>\n",
       "    <tr>\n",
       "      <th>173699</th>\n",
       "      <td>0.001668</td>\n",
       "      <td>145890.0</td>\n",
       "      <td>393361.150413</td>\n",
       "      <td>247471.150413</td>\n",
       "    </tr>\n",
       "    <tr>\n",
       "      <th>1929078</th>\n",
       "      <td>0.001347</td>\n",
       "      <td>103646.0</td>\n",
       "      <td>318069.055220</td>\n",
       "      <td>214423.055220</td>\n",
       "    </tr>\n",
       "    <tr>\n",
       "      <th>1908792</th>\n",
       "      <td>0.001896</td>\n",
       "      <td>636371.0</td>\n",
       "      <td>446754.564323</td>\n",
       "      <td>-189616.435677</td>\n",
       "    </tr>\n",
       "    <tr>\n",
       "      <th>1685145</th>\n",
       "      <td>0.001076</td>\n",
       "      <td>279832.0</td>\n",
       "      <td>254587.484764</td>\n",
       "      <td>-25244.515236</td>\n",
       "    </tr>\n",
       "    <tr>\n",
       "      <th>1320396</th>\n",
       "      <td>0.001263</td>\n",
       "      <td>364416.0</td>\n",
       "      <td>298384.847327</td>\n",
       "      <td>-66031.152673</td>\n",
       "    </tr>\n",
       "  </tbody>\n",
       "</table>\n",
       "</div>"
      ],
      "text/plain": [
       "            sq_ft  home_value           yhat      residuals\n",
       "173699   0.001668    145890.0  393361.150413  247471.150413\n",
       "1929078  0.001347    103646.0  318069.055220  214423.055220\n",
       "1908792  0.001896    636371.0  446754.564323 -189616.435677\n",
       "1685145  0.001076    279832.0  254587.484764  -25244.515236\n",
       "1320396  0.001263    364416.0  298384.847327  -66031.152673"
      ]
     },
     "execution_count": 9,
     "metadata": {},
     "output_type": "execute_result"
    }
   ],
   "source": [
    "#Calculate the residuals as a new column in my dataframe\n",
    "train['residuals'] = train['yhat'] - train['home_value']\n",
    "train.head()"
   ]
  },
  {
   "cell_type": "code",
   "execution_count": 10,
   "id": "11371d7e",
   "metadata": {},
   "outputs": [
    {
     "data": {
      "text/plain": [
       "Text(0.5, 1.0, 'Residual vs Home Value Plot')"
      ]
     },
     "execution_count": 10,
     "metadata": {},
     "output_type": "execute_result"
    },
    {
     "data": {
      "image/png": "[encoded data removed]",
      "text/plain": [
       "<Figure size 432x288 with 1 Axes>"
      ]
     },
     "metadata": {
      "needs_background": "light"
     },
     "output_type": "display_data"
    }
   ],
   "source": [
    "#Plot my residuals over the home value\n",
    "plt.scatter(x='home_value', y='residuals', data=train)\n",
    "plt.xlabel('Home Value')\n",
    "plt.ylabel('Residuals')\n",
    "plt.title('Residual vs Home Value Plot')"
   ]
  },
  {
   "cell_type": "markdown",
   "id": "6ce6a5d3",
   "metadata": {},
   "source": [
    "## Exercise 4\n",
    "\n",
    "Calculate the sum of squared errors, explained sum of squares, total sum of squares, mean squared error, and root mean squared error for your model."
   ]
  },
  {
   "cell_type": "code",
   "execution_count": 12,
   "id": "06f331f5",
   "metadata": {},
   "outputs": [
    {
     "data": {
      "text/plain": [
       "6.167882984403112e+17"
      ]
     },
     "execution_count": 12,
     "metadata": {},
     "output_type": "execute_result"
    }
   ],
   "source": [
    "#Calculate the sum of squared errors\n",
    "sse = mean_squared_error(train['home_value'], train['yhat']) * len(train)\n",
    "sse"
   ]
  },
  {
   "cell_type": "code",
   "execution_count": 13,
   "id": "d177e201",
   "metadata": {},
   "outputs": [
    {
     "data": {
      "text/plain": [
       "1.691745624162047e+17"
      ]
     },
     "execution_count": 13,
     "metadata": {},
     "output_type": "execute_result"
    }
   ],
   "source": [
    "#Calculate the explained sum of squares\n",
    "ess = sum((train['yhat'] - train['home_value'].mean()) ** 2)\n",
    "ess"
   ]
  },
  {
   "cell_type": "code",
   "execution_count": 14,
   "id": "add16024",
   "metadata": {},
   "outputs": [
    {
     "data": {
      "text/plain": [
       "7.859628608565158e+17"
      ]
     },
     "execution_count": 14,
     "metadata": {},
     "output_type": "execute_result"
    }
   ],
   "source": [
    "#Add the previous two metrics to get the total sum of squares\n",
    "tss = sse + ess\n",
    "tss"
   ]
  },
  {
   "cell_type": "code",
   "execution_count": 15,
   "id": "adedc081",
   "metadata": {},
   "outputs": [
    {
     "data": {
      "text/plain": [
       "360233980404.2028"
      ]
     },
     "execution_count": 15,
     "metadata": {},
     "output_type": "execute_result"
    }
   ],
   "source": [
    "#Calculate mean squared error\n",
    "mse = mean_squared_error(train['home_value'], train['yhat'])\n",
    "mse"
   ]
  },
  {
   "cell_type": "code",
   "execution_count": 16,
   "id": "1827b21e",
   "metadata": {},
   "outputs": [
    {
     "data": {
      "text/plain": [
       "600194.9519982677"
      ]
     },
     "execution_count": 16,
     "metadata": {},
     "output_type": "execute_result"
    }
   ],
   "source": [
    "#Take the root of mean squared error to get root mean squared error\n",
    "rmse = math.sqrt(mse)\n",
    "rmse"
   ]
  },
  {
   "cell_type": "markdown",
   "id": "2fe5abaf",
   "metadata": {},
   "source": [
    "## Exercise 5\n",
    "\n",
    "Calculate the sum of squared errors, mean squared error, and root mean squared error for the baseline model (i.e. a model that always predicts the average taxvaluedollarcnt amount)."
   ]
  },
  {
   "cell_type": "code",
   "execution_count": 17,
   "id": "2a06581c",
   "metadata": {},
   "outputs": [
    {
     "data": {
      "text/html": [
       "<div>\n",
       "<style scoped>\n",
       "    .dataframe tbody tr th:only-of-type {\n",
       "        vertical-align: middle;\n",
       "    }\n",
       "\n",
       "    .dataframe tbody tr th {\n",
       "        vertical-align: top;\n",
       "    }\n",
       "\n",
       "    .dataframe thead th {\n",
       "        text-align: right;\n",
       "    }\n",
       "</style>\n",
       "<table border=\"1\" class=\"dataframe\">\n",
       "  <thead>\n",
       "    <tr style=\"text-align: right;\">\n",
       "      <th></th>\n",
       "      <th>sq_ft</th>\n",
       "      <th>home_value</th>\n",
       "      <th>yhat</th>\n",
       "      <th>residuals</th>\n",
       "      <th>baseline</th>\n",
       "    </tr>\n",
       "  </thead>\n",
       "  <tbody>\n",
       "    <tr>\n",
       "      <th>173699</th>\n",
       "      <td>0.001668</td>\n",
       "      <td>145890.0</td>\n",
       "      <td>393361.150413</td>\n",
       "      <td>247471.150413</td>\n",
       "      <td>460558.350816</td>\n",
       "    </tr>\n",
       "    <tr>\n",
       "      <th>1929078</th>\n",
       "      <td>0.001347</td>\n",
       "      <td>103646.0</td>\n",
       "      <td>318069.055220</td>\n",
       "      <td>214423.055220</td>\n",
       "      <td>460558.350816</td>\n",
       "    </tr>\n",
       "    <tr>\n",
       "      <th>1908792</th>\n",
       "      <td>0.001896</td>\n",
       "      <td>636371.0</td>\n",
       "      <td>446754.564323</td>\n",
       "      <td>-189616.435677</td>\n",
       "      <td>460558.350816</td>\n",
       "    </tr>\n",
       "    <tr>\n",
       "      <th>1685145</th>\n",
       "      <td>0.001076</td>\n",
       "      <td>279832.0</td>\n",
       "      <td>254587.484764</td>\n",
       "      <td>-25244.515236</td>\n",
       "      <td>460558.350816</td>\n",
       "    </tr>\n",
       "    <tr>\n",
       "      <th>1320396</th>\n",
       "      <td>0.001263</td>\n",
       "      <td>364416.0</td>\n",
       "      <td>298384.847327</td>\n",
       "      <td>-66031.152673</td>\n",
       "      <td>460558.350816</td>\n",
       "    </tr>\n",
       "  </tbody>\n",
       "</table>\n",
       "</div>"
      ],
      "text/plain": [
       "            sq_ft  home_value           yhat      residuals       baseline\n",
       "173699   0.001668    145890.0  393361.150413  247471.150413  460558.350816\n",
       "1929078  0.001347    103646.0  318069.055220  214423.055220  460558.350816\n",
       "1908792  0.001896    636371.0  446754.564323 -189616.435677  460558.350816\n",
       "1685145  0.001076    279832.0  254587.484764  -25244.515236  460558.350816\n",
       "1320396  0.001263    364416.0  298384.847327  -66031.152673  460558.350816"
      ]
     },
     "execution_count": 17,
     "metadata": {},
     "output_type": "execute_result"
    }
   ],
   "source": [
    "#Create a baseline by predicting the average home value every time\n",
    "train['baseline'] = train['home_value'].mean()\n",
    "train.head()"
   ]
  },
  {
   "cell_type": "code",
   "execution_count": 18,
   "id": "b07452c9",
   "metadata": {},
   "outputs": [
    {
     "data": {
      "text/plain": [
       "7.859628608565888e+17"
      ]
     },
     "execution_count": 18,
     "metadata": {},
     "output_type": "execute_result"
    }
   ],
   "source": [
    "#Calculate the sum of squared errors for the baseline prediction\n",
    "sse_b = mean_squared_error(train['home_value'],\n",
    "                           train['baseline']) * len(train)\n",
    "sse_b"
   ]
  },
  {
   "cell_type": "code",
   "execution_count": 19,
   "id": "d39582e1",
   "metadata": {},
   "outputs": [
    {
     "data": {
      "text/plain": [
       "459040047504.4731"
      ]
     },
     "execution_count": 19,
     "metadata": {},
     "output_type": "execute_result"
    }
   ],
   "source": [
    "#Calculate mean squared error for baseline prediction\n",
    "mse_b = mean_squared_error(train['home_value'],\n",
    "                           train['baseline'])\n",
    "mse_b"
   ]
  },
  {
   "cell_type": "code",
   "execution_count": 20,
   "id": "69dd7e77",
   "metadata": {},
   "outputs": [
    {
     "data": {
      "text/plain": [
       "677524.9423485996"
      ]
     },
     "execution_count": 20,
     "metadata": {},
     "output_type": "execute_result"
    }
   ],
   "source": [
    "#Calculate root mean squared error for baseline\n",
    "rmse_b = math.sqrt(mse_b)\n",
    "rmse_b"
   ]
  },
  {
   "cell_type": "markdown",
   "id": "4f95d32a",
   "metadata": {},
   "source": [
    "## Exercise 6\n",
    "\n",
    "Write python code that compares the sum of squared errors for your model against the sum of squared errors for the baseline model and outputs whether or not your model performs better than the baseline model."
   ]
  },
  {
   "cell_type": "code",
   "execution_count": 21,
   "id": "e3297a19",
   "metadata": {},
   "outputs": [
    {
     "name": "stdout",
     "output_type": "stream",
     "text": [
      "The linear regression model outperforms the baseline!\n"
     ]
    }
   ],
   "source": [
    "#Evaluate the result of my model against the baseline\n",
    "if sse < sse_b:\n",
    "    print('The linear regression model outperforms the baseline!')\n",
    "else:\n",
    "    print('The model fails to improve upon the baseline.')"
   ]
  },
  {
   "cell_type": "markdown",
   "id": "d3983813",
   "metadata": {},
   "source": [
    "## Exercise 7\n",
    "\n",
    "What is the amount of variance explained in your model?"
   ]
  },
  {
   "cell_type": "code",
   "execution_count": 22,
   "id": "ddf04da0",
   "metadata": {},
   "outputs": [
    {
     "data": {
      "text/plain": [
       "0.21524498273600862"
      ]
     },
     "execution_count": 22,
     "metadata": {},
     "output_type": "execute_result"
    }
   ],
   "source": [
    "#Calculate how much variance is explained by my model\n",
    "r2 = ess / tss\n",
    "r2"
   ]
  },
  {
   "cell_type": "markdown",
   "id": "92496a77",
   "metadata": {},
   "source": [
    "## Exercise 8\n",
    "\n",
    "Is your model better than the baseline model?\n",
    "\n",
    "Yes but I'm not proud of it."
   ]
  },
  {
   "cell_type": "markdown",
   "id": "b7e57cec",
   "metadata": {},
   "source": [
    "## Exercise 9\n",
    "\n",
    "Create a file named evaluate.py that contains the following functions.\n",
    "\n",
    "plot_residuals(y, yhat): creates a residual plot\n",
    "\n",
    "regression_errors(y, yhat): returns the following values:  \n",
    "sum of squared errors (SSE)  \n",
    "explained sum of squares (ESS)  \n",
    "total sum of squares (TSS)  \n",
    "mean squared error (MSE)  \n",
    "root mean squared error (RMSE)  \n",
    "\n",
    "baseline_mean_errors(y): computes the SSE, MSE, and RMSE for the baseline model  \n",
    "\n",
    "better_than_baseline(y, yhat): returns true if your model performs better than the baseline, otherwise false"
   ]
  },
  {
   "cell_type": "code",
   "execution_count": 23,
   "id": "f564b4b8",
   "metadata": {},
   "outputs": [],
   "source": [
    "#Dependencies for these functions\n",
    "import math\n",
    "from sklearn.metrics import mean_squared_error"
   ]
  },
  {
   "cell_type": "code",
   "execution_count": 24,
   "id": "c75288f9",
   "metadata": {},
   "outputs": [],
   "source": [
    "def plot_residuals(y, yhat):\n",
    "    residuals = yhat - y\n",
    "    plt.scatter(x=y, y=residuals)\n",
    "    plt.title('Residual plot')    "
   ]
  },
  {
   "cell_type": "code",
   "execution_count": 25,
   "id": "7d130511",
   "metadata": {},
   "outputs": [],
   "source": [
    "def regression_errors(y, yhat):\n",
    "    sse = mean_squared_error(y, yhat) * len(y)\n",
    "    ess = sum((yhat - y.mean()) ** 2)\n",
    "    tss = sse + ess\n",
    "    mse = mean_squared_error(y, yhat)\n",
    "    rmse = math.sqrt(mse)\n",
    "    return sse, ess, tss, mse, rmse"
   ]
  },
  {
   "cell_type": "code",
   "execution_count": 26,
   "id": "75629baf",
   "metadata": {},
   "outputs": [],
   "source": [
    "def baseline_mean_errors(y):\n",
    "    sse = mean_squared_error(y, y.mean()) * len(y)\n",
    "    mse = mean_squared_error(y, y.mean())\n",
    "    rmse = math.sqrt(mse)\n",
    "    return sse, mse, rmse"
   ]
  },
  {
   "cell_type": "code",
   "execution_count": 27,
   "id": "f3fc2efc",
   "metadata": {},
   "outputs": [],
   "source": [
    "def better_than_baseline(y, yhat):\n",
    "    sse = regression_errors(y, yhat)\n",
    "    sse_b = baseline_mean_errors(y)\n",
    "    if sse < sse_b:\n",
    "        return True\n",
    "    else:\n",
    "        return False"
   ]
  },
  {
   "cell_type": "code",
   "execution_count": null,
   "id": "4f1859d1",
   "metadata": {},
   "outputs": [],
   "source": []
  }
 ],
 "metadata": {
  "kernelspec": {
   "display_name": "Python 3 (ipykernel)",
   "language": "python",
   "name": "python3"
  },
  "language_info": {
   "codemirror_mode": {
    "name": "ipython",
    "version": 3
   },
   "file_extension": ".py",
   "mimetype": "text/x-python",
   "name": "python",
   "nbconvert_exporter": "python",
   "pygments_lexer": "ipython3",
   "version": "3.9.12"
  }
 },
 "nbformat": 4,
 "nbformat_minor": 5
}

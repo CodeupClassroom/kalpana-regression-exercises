{
 "cells": [
  {
   "cell_type": "markdown",
   "id": "8a547bdf",
   "metadata": {},
   "source": [
    "# Exploration"
   ]
  },
  {
   "cell_type": "code",
   "execution_count": null,
   "id": "057127c3",
   "metadata": {},
   "outputs": [],
   "source": [
    "import warnings\n",
    "warnings.filterwarnings(\"ignore\")\n",
    "\n",
    "import pandas as pd\n",
    "import numpy as np\n",
    "\n",
    "import matplotlib.pyplot as plt\n",
    "import seaborn as sns\n",
    "\n",
    "from sklearn.model_selection import train_test_split\n",
    "from scipy.stats import pearsonr, spearmanr\n",
    "\n",
    "import env\n",
    "import wrangle"
   ]
  },
  {
   "cell_type": "markdown",
   "id": "25c7e25e",
   "metadata": {},
   "source": [
    "## Acquire and Prepare Data\n",
    "\n",
    "We will use the function we created during our acquire/prep lesson:"
   ]
  },
  {
   "cell_type": "code",
   "execution_count": null,
   "id": "f954aa0e",
   "metadata": {},
   "outputs": [],
   "source": [
    "def wrangle_grades():\n",
    "    '''\n",
    "    Read student_grades csv file into a pandas DataFrame,\n",
    "    drop student_id column, replace whitespaces with NaN values,\n",
    "    drop any rows with Null values, convert all columns to int64,\n",
    "    return cleaned student grades DataFrame.\n",
    "    '''\n",
    "    # Acquire data from csv file.\n",
    "    file = \"https://gist.githubusercontent.com/ryanorsinger/14c8f919920e111f53c6d2c3a3af7e70/raw/07f6e8004fa171638d6d599cfbf0513f6f60b9e8/student_grades.csv\"\n",
    "\n",
    "    grades = pd.read_csv(file)\n",
    "\n",
    "    # Replace white space values with NaN values.\n",
    "    grades = grades.replace(r'^\\s*$', np.nan, regex=True)\n",
    "\n",
    "    # Drop all rows with NaN values.\n",
    "    df = grades.dropna()\n",
    "\n",
    "    # Convert all columns to int64 data types.\n",
    "    df = df.astype('int')\n",
    "\n",
    "    return df"
   ]
  },
  {
   "cell_type": "code",
   "execution_count": null,
   "id": "d041e5e2",
   "metadata": {},
   "outputs": [],
   "source": [
    "df = wrangle_grades()"
   ]
  },
  {
   "cell_type": "code",
   "execution_count": null,
   "id": "e306de1b",
   "metadata": {},
   "outputs": [],
   "source": [
    "df.head()"
   ]
  },
  {
   "cell_type": "markdown",
   "id": "44c95271",
   "metadata": {},
   "source": [
    "Is `student_id` unique?"
   ]
  },
  {
   "cell_type": "code",
   "execution_count": null,
   "id": "39599155",
   "metadata": {},
   "outputs": [],
   "source": [
    "df.student_id.nunique()"
   ]
  },
  {
   "cell_type": "code",
   "execution_count": null,
   "id": "566ab6ad",
   "metadata": {},
   "outputs": [],
   "source": [
    "df.student_id.shape"
   ]
  },
  {
   "cell_type": "code",
   "execution_count": null,
   "id": "51363c45",
   "metadata": {},
   "outputs": [],
   "source": [
    "# Does each value unique identify a row?\n",
    "df.student_id.nunique() == df.student_id.shape[0]"
   ]
  },
  {
   "cell_type": "code",
   "execution_count": null,
   "id": "68fffad1",
   "metadata": {},
   "outputs": [],
   "source": [
    "df = df.drop(columns='student_id')"
   ]
  },
  {
   "cell_type": "code",
   "execution_count": null,
   "id": "c04dc182",
   "metadata": {},
   "outputs": [],
   "source": [
    "train, test = train_test_split(df, random_state=123, train_size=.8)"
   ]
  },
  {
   "cell_type": "code",
   "execution_count": null,
   "id": "3bd5b2ea",
   "metadata": {},
   "outputs": [],
   "source": [
    "train.shape, test.shape"
   ]
  },
  {
   "cell_type": "code",
   "execution_count": null,
   "id": "89f01d14",
   "metadata": {},
   "outputs": [],
   "source": [
    "plt.figure(figsize=(16, 3))\n",
    "\n",
    "for i, col in enumerate(train.columns):\n",
    "    \n",
    "    # i starts at 0, but plot nos should start at 1\n",
    "    plot_number = i + 1\n",
    "    \n",
    "    # Create subplot.\n",
    "    # plt.subplot(row X col, where?)\n",
    "    plt.subplot(1,4,plot_number)\n",
    "    \n",
    "    # Title with column name.\n",
    "    plt.title(col)\n",
    "    \n",
    "    # Display histogram for column.\n",
    "    train[col].hist(bins=5, edgecolor='black')\n",
    "    \n",
    "    # Hide gridlines.\n",
    "    plt.grid(False)"
   ]
  },
  {
   "cell_type": "markdown",
   "id": "b094810e",
   "metadata": {},
   "source": [
    "## Why Explore?\n",
    "\n",
    "- What is the purpose of this pipeline stage?\n",
    "\n",
    "## Main Stages in Exploration\n",
    "- Hypothesize\n",
    "- Visualize\n",
    "    - Plot out the distributions of each feature\n",
    "        - Why?\n",
    "    - Plot out the interaction of two or more variables?\n",
    "        - Why?\n",
    "    - Plot out how subgroups compare to each-other and to the overall population?\n",
    "        - Why?\n",
    "    - Document takeaways\n",
    "        - Why?\n",
    "    - Identify features that correlate with each other\n",
    "        - Why?\n",
    "- Test Hypotheses"
   ]
  },
  {
   "cell_type": "markdown",
   "id": "22d1d4bf",
   "metadata": {},
   "source": [
    "---\n",
    "## Goal\n",
    "\n",
    "Let's keep our goal from our student grades scenario in mind here.\n",
    "> I'm a university professor hoping I can build a prediction model that will be able to use these exams to predict the final grade within 5 points average per student."
   ]
  },
  {
   "cell_type": "markdown",
   "id": "bc04d295",
   "metadata": {},
   "source": [
    "## Initial Questions (i.e. Hypothesize Step)\n",
    "- What is the relationship between individual exam scores and final grade? Exam scores to other exam scores?\n",
    "- Is there a cutoff in grade that makes sense to investigate? Passing/failing/letter grades?\n",
    "---"
   ]
  },
  {
   "cell_type": "markdown",
   "id": "19e0912c",
   "metadata": {},
   "source": [
    "### **Q1:**  What is the relationship between individual exam scores and final grade? Exam scores to other exam scores?\n",
    "\n",
    "### `sns.heatmap()`\n",
    "\n",
    "Let's look at a heatmap of the correlation coefficients for a dataset. [Here](https://towardsdatascience.com/all-about-heatmaps-bb7d97f099d7) is an aritcle with lots of heatmap customization options.\n",
    "\n",
    "- First, I need to calculate the correlation coefficient for each pair of variables.\n",
    "- Pandas `.corr()` method allows me to quickly create a correlation matrix by computing pairwise correlation of columns. By default, `method=pearson`.\n",
    "- I can change the `.corr()` argument to `method=spearman` if my variables are not normally distributed. Want to know more about the difference between pearson's r and spearman's rank? [This article](https://towardsdatascience.com/clearly-explained-pearson-v-s-spearman-correlation-coefficient-ada2f473b8) is short, sweet, and to the point."
   ]
  },
  {
   "cell_type": "code",
   "execution_count": null,
   "id": "3c2b6ea0",
   "metadata": {},
   "outputs": [],
   "source": [
    "# Create the correlation matrix for all exams.\n",
    "\n",
    "exam_corr = train.corr(method='spearman')\n",
    "exam_corr"
   ]
  },
  {
   "cell_type": "markdown",
   "id": "d9005768",
   "metadata": {},
   "source": [
    "Next, I pass my correlation matrix to Seaborn's `heatmap()` along with any customization I want to perform."
   ]
  },
  {
   "cell_type": "code",
   "execution_count": null,
   "id": "c9df846f",
   "metadata": {},
   "outputs": [],
   "source": [
    "correlation_table = df.corr()\n",
    "# sns.heatmap(correlation_table, cmap='Blues', annot=True, vmin=0, vmax=1)\n",
    "sns.heatmap(correlation_table, cmap='Blues', annot=True)m"
   ]
  },
  {
   "cell_type": "code",
   "execution_count": null,
   "id": "64bdf3b2",
   "metadata": {},
   "outputs": [],
   "source": [
    "plt.figure(figsize=(8,6))\n",
    "sns.heatmap(exam_corr, cmap='Purples', annot=True, linewidth=0.5, mask= np.triu(exam_corr))\n",
    "plt.ylim(0, 4)\n",
    "\n",
    "plt.show()"
   ]
  },
  {
   "cell_type": "code",
   "execution_count": null,
   "id": "479f9a76",
   "metadata": {},
   "outputs": [],
   "source": [
    "kwargs = {'alpha':.9,'linewidth':3, 'linestyle':'-', \n",
    "          'linecolor':'k','rasterized':False, 'edgecolor':'w', \n",
    "          'capstyle':'projecting',}\n",
    "\n",
    "plt.figure(figsize=(8,6))\n",
    "sns.heatmap(exam_corr, cmap='Purples', annot=True, mask= np.triu(exam_corr), **kwargs)\n",
    "\n",
    "plt.show()"
   ]
  },
  {
   "cell_type": "markdown",
   "id": "d0839577",
   "metadata": {},
   "source": [
    "### Document Takeaways:\n",
    "\n",
    "- Exam 1 seems to be the most predictive of final grade\n",
    "- Everything seems to correlate with everything (Multicolinearity)"
   ]
  },
  {
   "cell_type": "markdown",
   "id": "de61a1aa",
   "metadata": {},
   "source": [
    "### Test Hypothesis(es)"
   ]
  },
  {
   "cell_type": "code",
   "execution_count": null,
   "id": "275efc2f",
   "metadata": {},
   "outputs": [],
   "source": [
    "# Use a scipy stats function pearsonr to calculate the correlation coefficient and the p-value.\n",
    "\n",
    "r, p_value = pearsonr(train.exam1, train.final_grade)\n",
    "print(f'Correlation Coefficient by Pearson Test: {r}, p-value: {p_value}')\n",
    "\n",
    "# set alpha : 0.05\n",
    "if p_value < 0.05:\n",
    "    print('We can reject the null hypothesis')\n",
    "else:\n",
    "    print('we cannot reject the null hypothesis')"
   ]
  },
  {
   "cell_type": "code",
   "execution_count": null,
   "id": "c4ef0735",
   "metadata": {},
   "outputs": [],
   "source": [
    "# Since my variables are not normally distributed, I should really choose Spearman instead.\n",
    "\n",
    "r, p_value = spearmanr(train.exam1, train.final_grade)\n",
    "print(f'Correlation Coefficient by Spearman Test: {r}, p-value: {p_value}')\n",
    "\n",
    "# set alpha : 0.05\n",
    "if p_value < 0.05:\n",
    "    print('We can reject the null hypothesis')\n",
    "else:m\n",
    "    print('we cannot reject the null hypothesis')"
   ]
  },
  {
   "cell_type": "markdown",
   "id": "c678fbd0",
   "metadata": {},
   "source": [
    "### What other kinds of visualizations could we have made?\n",
    "\n",
    "### `sns.relplot()`"
   ]
  },
  {
   "cell_type": "code",
   "execution_count": null,
   "id": "1cb7a53f",
   "metadata": {},
   "outputs": [],
   "source": [
    "sns.relplot(x='exam1', y='final_grade', data=train)\n",
    "plt.show()"
   ]
  },
  {
   "cell_type": "markdown",
   "id": "4f5b0fbc",
   "metadata": {},
   "source": [
    "### `sns.lmplot()`"
   ]
  },
  {
   "cell_type": "code",
   "execution_count": null,
   "id": "27e0505e",
   "metadata": {},
   "outputs": [],
   "source": [
    "# I can really pop that line color if I want.\n",
    "sns.lmplot(x='exam1', y='final_grade', data=train, line_kws={'color': 'red'})\n",
    "plt.show()"
   ]
  },
  {
   "cell_type": "markdown",
   "id": "2750ef47",
   "metadata": {},
   "source": [
    "### `sns.jointplot()`"
   ]
  },
  {
   "cell_type": "code",
   "execution_count": null,
   "id": "39730b5c",
   "metadata": {},
   "outputs": [],
   "source": [
    "sns.jointplot(x='exam1', y='final_grade', data=train, kind='reg')\n",
    "plt.show()"
   ]
  },
  {
   "cell_type": "markdown",
   "id": "9ca59aa1",
   "metadata": {},
   "source": [
    "### `sns.pairplot()`"
   ]
  },
  {
   "cell_type": "code",
   "execution_count": null,
   "id": "70ce27aa",
   "metadata": {},
   "outputs": [],
   "source": [
    "# do we have a really large dataset? (long)\n",
    "# try this: sns.pairplot(train.sample(anumbersmallerthanwhatwehave))"
   ]
  },
  {
   "cell_type": "code",
   "execution_count": null,
   "id": "02966fbf",
   "metadata": {},
   "outputs": [],
   "source": [
    "train.sample(25)"
   ]
  },
  {
   "cell_type": "code",
   "execution_count": null,
   "id": "a14cc358",
   "metadata": {},
   "outputs": [],
   "source": [
    "sns.pairplot(train, corner=True)\n",
    "plt.savefig('somefile.png')"
   ]
  },
  {
   "cell_type": "markdown",
   "id": "48bd98ee",
   "metadata": {},
   "source": [
    "### Q2: Is there a cutoff in grade that makes sense to investigate? Passing/failing/letter grades?"
   ]
  },
  {
   "cell_type": "code",
   "execution_count": null,
   "id": "c27ab861",
   "metadata": {},
   "outputs": [],
   "source": []
  },
  {
   "cell_type": "code",
   "execution_count": null,
   "id": "d96ef539",
   "metadata": {},
   "outputs": [],
   "source": [
    "train['exam1_desc'] = np.where(train.exam1 > 75, 'good grade', 'bad grade')\n",
    "train['exam2_desc'] = np.where(train.exam2 > 75, 'good grade', 'bad grade')\n",
    "train['exam3_desc'] = np.where(train.exam3 > 75, 'good grade', 'bad grade')"
   ]
  },
  {
   "cell_type": "code",
   "execution_count": null,
   "id": "595c9f50",
   "metadata": {},
   "outputs": [],
   "source": [
    "train"
   ]
  },
  {
   "cell_type": "code",
   "execution_count": null,
   "id": "95fbd3b5",
   "metadata": {},
   "outputs": [],
   "source": [
    "sns.histplot(data=train, x='final_grade', hue='exam1_desc', palette=['C0', 'C1'])"
   ]
  },
  {
   "cell_type": "code",
   "execution_count": null,
   "id": "a92ccf62",
   "metadata": {},
   "outputs": [],
   "source": [
    "train.groupby('exam1_desc').final_grade.mean()"
   ]
  },
  {
   "cell_type": "code",
   "execution_count": null,
   "id": "b34f5dc2",
   "metadata": {},
   "outputs": [],
   "source": [
    "sns.histplot(data=train, x='final_grade', hue='exam2_desc', palette=['C0', 'C1'])"
   ]
  },
  {
   "cell_type": "code",
   "execution_count": null,
   "id": "aea3508a",
   "metadata": {},
   "outputs": [],
   "source": [
    "train.groupby('exam2_desc').final_grade.mean()"
   ]
  },
  {
   "cell_type": "code",
   "execution_count": null,
   "id": "bff78e71",
   "metadata": {},
   "outputs": [],
   "source": [
    "sns.histplot(data=train, x='final_grade', hue='exam3_desc', palette=['C1', 'C0'])"
   ]
  },
  {
   "cell_type": "code",
   "execution_count": null,
   "id": "b9c8285d",
   "metadata": {},
   "outputs": [],
   "source": [
    "train.groupby('exam3_desc').final_grade.mean()"
   ]
  },
  {
   "cell_type": "markdown",
   "id": "7295456f",
   "metadata": {},
   "source": [
    "### Takeaways\n",
    "- People who made a good grade on exam1 and exam2 tend to make good final grades.\n",
    "- exam3 is a little messier in its relationship with final_grade\n",
    "- Given the multicollinearity present, we may want to just focus on one exam. \n",
    "- exam1 had the highest linear correlation in the correlation plot, so we can work with that one"
   ]
  },
  {
   "cell_type": "code",
   "execution_count": null,
   "id": "7ed52e34",
   "metadata": {},
   "outputs": [],
   "source": [
    "# Bonus visualization - Pairplots can also accept hue categories\n",
    "sns.pairplot(train, hue='exam1_desc')"
   ]
  },
  {
   "cell_type": "markdown",
   "id": "88fced4f",
   "metadata": {},
   "source": [
    "### Follow Up Question: How do people who eventually fail the class perform on exam1?"
   ]
  },
  {
   "cell_type": "code",
   "execution_count": null,
   "id": "46ac49b2",
   "metadata": {},
   "outputs": [],
   "source": [
    "train['fails_class'] = train.final_grade < 70"
   ]
  },
  {
   "cell_type": "code",
   "execution_count": null,
   "id": "0c5d6ff0",
   "metadata": {},
   "outputs": [],
   "source": [
    "pd.crosstab(train.exam1_desc, train.fails_class)"
   ]
  },
  {
   "cell_type": "markdown",
   "id": "0eac466a",
   "metadata": {},
   "source": [
    "Interesting. Everyone who made a good grade on exam1 (above a 75) passed the course."
   ]
  },
  {
   "cell_type": "code",
   "execution_count": null,
   "id": "01f3b96d",
   "metadata": {},
   "outputs": [],
   "source": [
    "pd.crosstab(train.exam1_desc, train.fails_class, normalize='index')"
   ]
  },
  {
   "cell_type": "markdown",
   "id": "e0f0db22",
   "metadata": {},
   "source": [
    "Almost a third (32.5%) of students who get a bad grade (<=75) on the first exam end up failing the class.\n",
    "\n",
    "We haven't even built a model yet and we already have an actionable recommendation. "
   ]
  },
  {
   "cell_type": "code",
   "execution_count": null,
   "id": "128d000f",
   "metadata": {},
   "outputs": [],
   "source": []
  }
 ],
 "metadata": {
  "kernelspec": {
   "display_name": "Python 3",
   "language": "python",
   "name": "python3"
  },
  "language_info": {
   "codemirror_mode": {
    "name": "ipython",
    "version": 3
   },
   "file_extension": ".py",
   "mimetype": "text/x-python",
   "name": "python",
   "nbconvert_exporter": "python",
   "pygments_lexer": "ipython3",
   "version": "3.8.8"
  }
 },
 "nbformat": 4,
 "nbformat_minor": 5
}

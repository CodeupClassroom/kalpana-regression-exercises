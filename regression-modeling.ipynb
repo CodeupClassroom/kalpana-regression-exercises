{
 "cells": [
  {
   "cell_type": "markdown",
   "id": "4bd39501",
   "metadata": {},
   "source": [
    "## Exercises\n",
    "\n",
    "Select a dataset with a continuous target variable.\n",
    "\n",
    "Be sure your data is prepared (no missing values, numeric datatypes) and split into samples.\n",
    "\n",
    "Work through all of the steps outlined in the lesson, from setting the baseline to selected a model and evaluating the final model on your test data."
   ]
  },
  {
   "cell_type": "code",
   "execution_count": 1,
   "id": "337f9738",
   "metadata": {},
   "outputs": [],
   "source": [
    "#Import dependencies\n",
    "import pandas as pd\n",
    "import numpy as np\n",
    "import matplotlib.pyplot as plt\n",
    "from pydataset import data\n",
    "from math import sqrt\n",
    "\n",
    "from sklearn.metrics import mean_squared_error\n",
    "from sklearn.preprocessing import MinMaxScaler\n",
    "from sklearn.model_selection import train_test_split\n",
    "from sklearn.linear_model import LinearRegression, LassoLars, TweedieRegressor"
   ]
  },
  {
   "cell_type": "code",
   "execution_count": 2,
   "id": "783d5df2",
   "metadata": {},
   "outputs": [
    {
     "data": {
      "text/html": [
       "<div>\n",
       "<style scoped>\n",
       "    .dataframe tbody tr th:only-of-type {\n",
       "        vertical-align: middle;\n",
       "    }\n",
       "\n",
       "    .dataframe tbody tr th {\n",
       "        vertical-align: top;\n",
       "    }\n",
       "\n",
       "    .dataframe thead th {\n",
       "        text-align: right;\n",
       "    }\n",
       "</style>\n",
       "<table border=\"1\" class=\"dataframe\">\n",
       "  <thead>\n",
       "    <tr style=\"text-align: right;\">\n",
       "      <th></th>\n",
       "      <th>total_bill</th>\n",
       "      <th>tip</th>\n",
       "      <th>sex</th>\n",
       "      <th>smoker</th>\n",
       "      <th>day</th>\n",
       "      <th>time</th>\n",
       "      <th>size</th>\n",
       "    </tr>\n",
       "  </thead>\n",
       "  <tbody>\n",
       "    <tr>\n",
       "      <th>1</th>\n",
       "      <td>16.99</td>\n",
       "      <td>1.01</td>\n",
       "      <td>Female</td>\n",
       "      <td>No</td>\n",
       "      <td>Sun</td>\n",
       "      <td>Dinner</td>\n",
       "      <td>2</td>\n",
       "    </tr>\n",
       "    <tr>\n",
       "      <th>2</th>\n",
       "      <td>10.34</td>\n",
       "      <td>1.66</td>\n",
       "      <td>Male</td>\n",
       "      <td>No</td>\n",
       "      <td>Sun</td>\n",
       "      <td>Dinner</td>\n",
       "      <td>3</td>\n",
       "    </tr>\n",
       "    <tr>\n",
       "      <th>3</th>\n",
       "      <td>21.01</td>\n",
       "      <td>3.50</td>\n",
       "      <td>Male</td>\n",
       "      <td>No</td>\n",
       "      <td>Sun</td>\n",
       "      <td>Dinner</td>\n",
       "      <td>3</td>\n",
       "    </tr>\n",
       "    <tr>\n",
       "      <th>4</th>\n",
       "      <td>23.68</td>\n",
       "      <td>3.31</td>\n",
       "      <td>Male</td>\n",
       "      <td>No</td>\n",
       "      <td>Sun</td>\n",
       "      <td>Dinner</td>\n",
       "      <td>2</td>\n",
       "    </tr>\n",
       "    <tr>\n",
       "      <th>5</th>\n",
       "      <td>24.59</td>\n",
       "      <td>3.61</td>\n",
       "      <td>Female</td>\n",
       "      <td>No</td>\n",
       "      <td>Sun</td>\n",
       "      <td>Dinner</td>\n",
       "      <td>4</td>\n",
       "    </tr>\n",
       "  </tbody>\n",
       "</table>\n",
       "</div>"
      ],
      "text/plain": [
       "   total_bill   tip     sex smoker  day    time  size\n",
       "1       16.99  1.01  Female     No  Sun  Dinner     2\n",
       "2       10.34  1.66    Male     No  Sun  Dinner     3\n",
       "3       21.01  3.50    Male     No  Sun  Dinner     3\n",
       "4       23.68  3.31    Male     No  Sun  Dinner     2\n",
       "5       24.59  3.61  Female     No  Sun  Dinner     4"
      ]
     },
     "execution_count": 2,
     "metadata": {},
     "output_type": "execute_result"
    }
   ],
   "source": [
    "#Read in the tips dataset\n",
    "df = data('tips')\n",
    "df.head()"
   ]
  },
  {
   "cell_type": "code",
   "execution_count": 3,
   "id": "265043f6",
   "metadata": {},
   "outputs": [],
   "source": [
    "#Split my data\n",
    "seed = 42\n",
    "\n",
    "train, test_val = train_test_split(df, train_size=0.7,\n",
    "                                   random_state=seed)\n",
    "\n",
    "test, valid = train_test_split(test_val, train_size=0.5,\n",
    "                               random_state=seed)"
   ]
  },
  {
   "cell_type": "code",
   "execution_count": 4,
   "id": "522d9ea8",
   "metadata": {},
   "outputs": [
    {
     "name": "stdout",
     "output_type": "stream",
     "text": [
      "Train shape: (170, 7).\n",
      "Validation shape: (37, 7).\n",
      "Test shape: (37, 7).\n"
     ]
    }
   ],
   "source": [
    "#Verify it was split correctly\n",
    "print('Train shape: {}.'.format(train.shape))\n",
    "print('Validation shape: {}.'.format(valid.shape))\n",
    "print('Test shape: {}.'.format(test.shape))"
   ]
  },
  {
   "cell_type": "code",
   "execution_count": 5,
   "id": "928dd4b4",
   "metadata": {},
   "outputs": [
    {
     "data": {
      "text/plain": [
       "Text(0, 0.5, 'Frequency')"
      ]
     },
     "execution_count": 5,
     "metadata": {},
     "output_type": "execute_result"
    },
    {
     "data": {
      "image/png": "[encoded data removed]",
      "text/plain": [
       "<Figure size 432x288 with 1 Axes>"
      ]
     },
     "metadata": {
      "needs_background": "light"
     },
     "output_type": "display_data"
    }
   ],
   "source": [
    "#Visualize my target variable\n",
    "plt.hist(train.tip)\n",
    "plt.xlabel('Tip Amount')\n",
    "plt.ylabel('Frequency')"
   ]
  },
  {
   "cell_type": "code",
   "execution_count": 6,
   "id": "34eb2570",
   "metadata": {},
   "outputs": [
    {
     "name": "stdout",
     "output_type": "stream",
     "text": [
      "Train baseline RMSE: 1.4613833281633912.\n",
      "Validation baseline RMSE: 1.0526428585051797.\n"
     ]
    }
   ],
   "source": [
    "#Establish baselines for the train and validation subsets\n",
    "baseline = train.tip.mean()\n",
    "\n",
    "train['baseline'] = baseline\n",
    "valid['baseline'] = baseline\n",
    "\n",
    "train_rmse = sqrt(mean_squared_error(train.tip, train.baseline))\n",
    "valid_rmse = sqrt(mean_squared_error(valid.tip, valid.baseline))\n",
    "\n",
    "print('Train baseline RMSE: {}.'.format(train_rmse))\n",
    "print('Validation baseline RMSE: {}.'.format(valid_rmse))"
   ]
  },
  {
   "cell_type": "code",
   "execution_count": 7,
   "id": "edfc62b0",
   "metadata": {},
   "outputs": [
    {
     "data": {
      "text/plain": [
       "<matplotlib.legend.Legend at 0x7fefc97bdfd0>"
      ]
     },
     "execution_count": 7,
     "metadata": {},
     "output_type": "execute_result"
    },
    {
     "data": {
      "image/png": "[encoded data removed]",
      "text/plain": [
       "<Figure size 432x288 with 1 Axes>"
      ]
     },
     "metadata": {
      "needs_background": "light"
     },
     "output_type": "display_data"
    }
   ],
   "source": [
    "#Plot my train baseline against the actual tip distribution\n",
    "plt.hist(train.tip, color='blue', alpha=0.5, label='Actual tip')\n",
    "plt.hist(train.baseline, color='orange', alpha=0.5, label='Baseline')\n",
    "plt.xlabel('Tip Amount')\n",
    "plt.ylabel('Frequency')\n",
    "plt.legend()"
   ]
  },
  {
   "cell_type": "code",
   "execution_count": 8,
   "id": "52d60280",
   "metadata": {},
   "outputs": [],
   "source": [
    "#Define a function to create dummies for my categorical columns\n",
    "def dummy_detector(df):\n",
    "    \n",
    "    dummy_df = pd.get_dummies(df, columns=['sex', 'smoker', 'day', 'time', 'size'])\n",
    "    dummy_df.drop(columns=['sex_Female', 'smoker_No', 'baseline'],\n",
    "                  axis=1, inplace=True)\n",
    "    \n",
    "    X = dummy_df.drop(columns=['tip'])\n",
    "    y = pd.DataFrame(dummy_df['tip'])\n",
    "    \n",
    "    return X, y"
   ]
  },
  {
   "cell_type": "code",
   "execution_count": 9,
   "id": "0c545a9c",
   "metadata": {},
   "outputs": [],
   "source": [
    "#I had to add this column in order for dummy_detector to work on test\n",
    "test['baseline'] = 0"
   ]
  },
  {
   "cell_type": "code",
   "execution_count": 10,
   "id": "6bfa0cd4",
   "metadata": {},
   "outputs": [],
   "source": [
    "#Create train and validate dataframes for X and y\n",
    "X_train, y_train = dummy_detector(train)\n",
    "X_valid, y_valid = dummy_detector(valid)\n",
    "X_test, y_test = dummy_detector(test)"
   ]
  },
  {
   "cell_type": "code",
   "execution_count": 11,
   "id": "86de5afb",
   "metadata": {},
   "outputs": [
    {
     "data": {
      "text/plain": [
       "((170, 15), (37, 14), (37, 15))"
      ]
     },
     "execution_count": 11,
     "metadata": {},
     "output_type": "execute_result"
    }
   ],
   "source": [
    "#Check the shape of the X subsets\n",
    "X_train.shape, X_valid.shape, X_test.shape"
   ]
  },
  {
   "cell_type": "code",
   "execution_count": 12,
   "id": "09850e0b",
   "metadata": {},
   "outputs": [
    {
     "data": {
      "text/html": [
       "<div>\n",
       "<style scoped>\n",
       "    .dataframe tbody tr th:only-of-type {\n",
       "        vertical-align: middle;\n",
       "    }\n",
       "\n",
       "    .dataframe tbody tr th {\n",
       "        vertical-align: top;\n",
       "    }\n",
       "\n",
       "    .dataframe thead th {\n",
       "        text-align: right;\n",
       "    }\n",
       "</style>\n",
       "<table border=\"1\" class=\"dataframe\">\n",
       "  <thead>\n",
       "    <tr style=\"text-align: right;\">\n",
       "      <th></th>\n",
       "      <th>total_bill</th>\n",
       "      <th>sex_Male</th>\n",
       "      <th>smoker_Yes</th>\n",
       "      <th>day_Fri</th>\n",
       "      <th>day_Sat</th>\n",
       "      <th>day_Sun</th>\n",
       "      <th>day_Thur</th>\n",
       "      <th>time_Dinner</th>\n",
       "      <th>time_Lunch</th>\n",
       "      <th>size_1</th>\n",
       "      <th>size_2</th>\n",
       "      <th>size_3</th>\n",
       "      <th>size_4</th>\n",
       "      <th>size_5</th>\n",
       "    </tr>\n",
       "  </thead>\n",
       "  <tbody>\n",
       "    <tr>\n",
       "      <th>199</th>\n",
       "      <td>13.00</td>\n",
       "      <td>0</td>\n",
       "      <td>1</td>\n",
       "      <td>0</td>\n",
       "      <td>0</td>\n",
       "      <td>0</td>\n",
       "      <td>1</td>\n",
       "      <td>0</td>\n",
       "      <td>1</td>\n",
       "      <td>0</td>\n",
       "      <td>1</td>\n",
       "      <td>0</td>\n",
       "      <td>0</td>\n",
       "      <td>0</td>\n",
       "    </tr>\n",
       "    <tr>\n",
       "      <th>226</th>\n",
       "      <td>16.27</td>\n",
       "      <td>0</td>\n",
       "      <td>1</td>\n",
       "      <td>1</td>\n",
       "      <td>0</td>\n",
       "      <td>0</td>\n",
       "      <td>0</td>\n",
       "      <td>0</td>\n",
       "      <td>1</td>\n",
       "      <td>0</td>\n",
       "      <td>1</td>\n",
       "      <td>0</td>\n",
       "      <td>0</td>\n",
       "      <td>0</td>\n",
       "    </tr>\n",
       "    <tr>\n",
       "      <th>67</th>\n",
       "      <td>16.45</td>\n",
       "      <td>0</td>\n",
       "      <td>0</td>\n",
       "      <td>0</td>\n",
       "      <td>1</td>\n",
       "      <td>0</td>\n",
       "      <td>0</td>\n",
       "      <td>1</td>\n",
       "      <td>0</td>\n",
       "      <td>0</td>\n",
       "      <td>1</td>\n",
       "      <td>0</td>\n",
       "      <td>0</td>\n",
       "      <td>0</td>\n",
       "    </tr>\n",
       "    <tr>\n",
       "      <th>25</th>\n",
       "      <td>19.82</td>\n",
       "      <td>1</td>\n",
       "      <td>0</td>\n",
       "      <td>0</td>\n",
       "      <td>1</td>\n",
       "      <td>0</td>\n",
       "      <td>0</td>\n",
       "      <td>1</td>\n",
       "      <td>0</td>\n",
       "      <td>0</td>\n",
       "      <td>1</td>\n",
       "      <td>0</td>\n",
       "      <td>0</td>\n",
       "      <td>0</td>\n",
       "    </tr>\n",
       "    <tr>\n",
       "      <th>160</th>\n",
       "      <td>16.49</td>\n",
       "      <td>1</td>\n",
       "      <td>0</td>\n",
       "      <td>0</td>\n",
       "      <td>0</td>\n",
       "      <td>1</td>\n",
       "      <td>0</td>\n",
       "      <td>1</td>\n",
       "      <td>0</td>\n",
       "      <td>0</td>\n",
       "      <td>0</td>\n",
       "      <td>0</td>\n",
       "      <td>1</td>\n",
       "      <td>0</td>\n",
       "    </tr>\n",
       "  </tbody>\n",
       "</table>\n",
       "</div>"
      ],
      "text/plain": [
       "     total_bill  sex_Male  smoker_Yes  day_Fri  day_Sat  day_Sun  day_Thur  \\\n",
       "199       13.00         0           1        0        0        0         1   \n",
       "226       16.27         0           1        1        0        0         0   \n",
       "67        16.45         0           0        0        1        0         0   \n",
       "25        19.82         1           0        0        1        0         0   \n",
       "160       16.49         1           0        0        0        1         0   \n",
       "\n",
       "     time_Dinner  time_Lunch  size_1  size_2  size_3  size_4  size_5  \n",
       "199            0           1       0       1       0       0       0  \n",
       "226            0           1       0       1       0       0       0  \n",
       "67             1           0       0       1       0       0       0  \n",
       "25             1           0       0       1       0       0       0  \n",
       "160            1           0       0       0       0       1       0  "
      ]
     },
     "execution_count": 12,
     "metadata": {},
     "output_type": "execute_result"
    }
   ],
   "source": [
    "#What's missing here?\n",
    "X_valid.head()"
   ]
  },
  {
   "cell_type": "code",
   "execution_count": 13,
   "id": "021724cc",
   "metadata": {},
   "outputs": [],
   "source": [
    "#Create a new column to match the shape of X_train\n",
    "X_valid['size_6'] = 0"
   ]
  },
  {
   "cell_type": "code",
   "execution_count": 14,
   "id": "78fb6bb3",
   "metadata": {},
   "outputs": [
    {
     "data": {
      "text/html": [
       "<div>\n",
       "<style scoped>\n",
       "    .dataframe tbody tr th:only-of-type {\n",
       "        vertical-align: middle;\n",
       "    }\n",
       "\n",
       "    .dataframe tbody tr th {\n",
       "        vertical-align: top;\n",
       "    }\n",
       "\n",
       "    .dataframe thead th {\n",
       "        text-align: right;\n",
       "    }\n",
       "</style>\n",
       "<table border=\"1\" class=\"dataframe\">\n",
       "  <thead>\n",
       "    <tr style=\"text-align: right;\">\n",
       "      <th></th>\n",
       "      <th>total_bill</th>\n",
       "      <th>sex_Male</th>\n",
       "      <th>smoker_Yes</th>\n",
       "      <th>day_Fri</th>\n",
       "      <th>day_Sat</th>\n",
       "      <th>day_Sun</th>\n",
       "      <th>day_Thur</th>\n",
       "      <th>time_Dinner</th>\n",
       "      <th>time_Lunch</th>\n",
       "      <th>size_1</th>\n",
       "      <th>size_2</th>\n",
       "      <th>size_3</th>\n",
       "      <th>size_4</th>\n",
       "      <th>size_5</th>\n",
       "      <th>size_6</th>\n",
       "    </tr>\n",
       "  </thead>\n",
       "  <tbody>\n",
       "    <tr>\n",
       "      <th>199</th>\n",
       "      <td>13.00</td>\n",
       "      <td>0</td>\n",
       "      <td>1</td>\n",
       "      <td>0</td>\n",
       "      <td>0</td>\n",
       "      <td>0</td>\n",
       "      <td>1</td>\n",
       "      <td>0</td>\n",
       "      <td>1</td>\n",
       "      <td>0</td>\n",
       "      <td>1</td>\n",
       "      <td>0</td>\n",
       "      <td>0</td>\n",
       "      <td>0</td>\n",
       "      <td>0</td>\n",
       "    </tr>\n",
       "    <tr>\n",
       "      <th>226</th>\n",
       "      <td>16.27</td>\n",
       "      <td>0</td>\n",
       "      <td>1</td>\n",
       "      <td>1</td>\n",
       "      <td>0</td>\n",
       "      <td>0</td>\n",
       "      <td>0</td>\n",
       "      <td>0</td>\n",
       "      <td>1</td>\n",
       "      <td>0</td>\n",
       "      <td>1</td>\n",
       "      <td>0</td>\n",
       "      <td>0</td>\n",
       "      <td>0</td>\n",
       "      <td>0</td>\n",
       "    </tr>\n",
       "    <tr>\n",
       "      <th>67</th>\n",
       "      <td>16.45</td>\n",
       "      <td>0</td>\n",
       "      <td>0</td>\n",
       "      <td>0</td>\n",
       "      <td>1</td>\n",
       "      <td>0</td>\n",
       "      <td>0</td>\n",
       "      <td>1</td>\n",
       "      <td>0</td>\n",
       "      <td>0</td>\n",
       "      <td>1</td>\n",
       "      <td>0</td>\n",
       "      <td>0</td>\n",
       "      <td>0</td>\n",
       "      <td>0</td>\n",
       "    </tr>\n",
       "    <tr>\n",
       "      <th>25</th>\n",
       "      <td>19.82</td>\n",
       "      <td>1</td>\n",
       "      <td>0</td>\n",
       "      <td>0</td>\n",
       "      <td>1</td>\n",
       "      <td>0</td>\n",
       "      <td>0</td>\n",
       "      <td>1</td>\n",
       "      <td>0</td>\n",
       "      <td>0</td>\n",
       "      <td>1</td>\n",
       "      <td>0</td>\n",
       "      <td>0</td>\n",
       "      <td>0</td>\n",
       "      <td>0</td>\n",
       "    </tr>\n",
       "    <tr>\n",
       "      <th>160</th>\n",
       "      <td>16.49</td>\n",
       "      <td>1</td>\n",
       "      <td>0</td>\n",
       "      <td>0</td>\n",
       "      <td>0</td>\n",
       "      <td>1</td>\n",
       "      <td>0</td>\n",
       "      <td>1</td>\n",
       "      <td>0</td>\n",
       "      <td>0</td>\n",
       "      <td>0</td>\n",
       "      <td>0</td>\n",
       "      <td>1</td>\n",
       "      <td>0</td>\n",
       "      <td>0</td>\n",
       "    </tr>\n",
       "  </tbody>\n",
       "</table>\n",
       "</div>"
      ],
      "text/plain": [
       "     total_bill  sex_Male  smoker_Yes  day_Fri  day_Sat  day_Sun  day_Thur  \\\n",
       "199       13.00         0           1        0        0        0         1   \n",
       "226       16.27         0           1        1        0        0         0   \n",
       "67        16.45         0           0        0        1        0         0   \n",
       "25        19.82         1           0        0        1        0         0   \n",
       "160       16.49         1           0        0        0        1         0   \n",
       "\n",
       "     time_Dinner  time_Lunch  size_1  size_2  size_3  size_4  size_5  size_6  \n",
       "199            0           1       0       1       0       0       0       0  \n",
       "226            0           1       0       1       0       0       0       0  \n",
       "67             1           0       0       1       0       0       0       0  \n",
       "25             1           0       0       1       0       0       0       0  \n",
       "160            1           0       0       0       0       1       0       0  "
      ]
     },
     "execution_count": 14,
     "metadata": {},
     "output_type": "execute_result"
    }
   ],
   "source": [
    "#Verify the addition was successful\n",
    "X_valid.head()"
   ]
  },
  {
   "cell_type": "code",
   "execution_count": 15,
   "id": "2ee2b6ac",
   "metadata": {},
   "outputs": [],
   "source": [
    "#Instantiate the min-max scaler and fit/transform my continuous feature\n",
    "mms = MinMaxScaler()\n",
    "\n",
    "mms.fit(X_train[['total_bill']])\n",
    "\n",
    "X_train[['total_bill']] = mms.transform(X_train[['total_bill']])\n",
    "\n",
    "X_valid[['total_bill']] = mms.transform(X_valid[['total_bill']])\n",
    "\n",
    "X_test[['total_bill']] = mms.transform(X_test[['total_bill']])"
   ]
  },
  {
   "cell_type": "code",
   "execution_count": 16,
   "id": "ca0530fd",
   "metadata": {},
   "outputs": [
    {
     "data": {
      "text/html": [
       "<div>\n",
       "<style scoped>\n",
       "    .dataframe tbody tr th:only-of-type {\n",
       "        vertical-align: middle;\n",
       "    }\n",
       "\n",
       "    .dataframe tbody tr th {\n",
       "        vertical-align: top;\n",
       "    }\n",
       "\n",
       "    .dataframe thead th {\n",
       "        text-align: right;\n",
       "    }\n",
       "</style>\n",
       "<table border=\"1\" class=\"dataframe\">\n",
       "  <thead>\n",
       "    <tr style=\"text-align: right;\">\n",
       "      <th></th>\n",
       "      <th>total_bill</th>\n",
       "      <th>sex_Male</th>\n",
       "      <th>smoker_Yes</th>\n",
       "      <th>day_Fri</th>\n",
       "      <th>day_Sat</th>\n",
       "      <th>day_Sun</th>\n",
       "      <th>day_Thur</th>\n",
       "      <th>time_Dinner</th>\n",
       "      <th>time_Lunch</th>\n",
       "      <th>size_1</th>\n",
       "      <th>size_2</th>\n",
       "      <th>size_3</th>\n",
       "      <th>size_4</th>\n",
       "      <th>size_5</th>\n",
       "      <th>size_6</th>\n",
       "    </tr>\n",
       "  </thead>\n",
       "  <tbody>\n",
       "    <tr>\n",
       "      <th>235</th>\n",
       "      <td>0.217044</td>\n",
       "      <td>1</td>\n",
       "      <td>1</td>\n",
       "      <td>0</td>\n",
       "      <td>1</td>\n",
       "      <td>0</td>\n",
       "      <td>0</td>\n",
       "      <td>1</td>\n",
       "      <td>0</td>\n",
       "      <td>0</td>\n",
       "      <td>1</td>\n",
       "      <td>0</td>\n",
       "      <td>0</td>\n",
       "      <td>0</td>\n",
       "      <td>0</td>\n",
       "    </tr>\n",
       "    <tr>\n",
       "      <th>228</th>\n",
       "      <td>0.326232</td>\n",
       "      <td>1</td>\n",
       "      <td>0</td>\n",
       "      <td>0</td>\n",
       "      <td>1</td>\n",
       "      <td>0</td>\n",
       "      <td>0</td>\n",
       "      <td>1</td>\n",
       "      <td>0</td>\n",
       "      <td>0</td>\n",
       "      <td>0</td>\n",
       "      <td>0</td>\n",
       "      <td>1</td>\n",
       "      <td>0</td>\n",
       "      <td>0</td>\n",
       "    </tr>\n",
       "    <tr>\n",
       "      <th>181</th>\n",
       "      <td>0.641367</td>\n",
       "      <td>1</td>\n",
       "      <td>1</td>\n",
       "      <td>0</td>\n",
       "      <td>0</td>\n",
       "      <td>1</td>\n",
       "      <td>0</td>\n",
       "      <td>1</td>\n",
       "      <td>0</td>\n",
       "      <td>0</td>\n",
       "      <td>0</td>\n",
       "      <td>0</td>\n",
       "      <td>1</td>\n",
       "      <td>0</td>\n",
       "      <td>0</td>\n",
       "    </tr>\n",
       "    <tr>\n",
       "      <th>6</th>\n",
       "      <td>0.433644</td>\n",
       "      <td>1</td>\n",
       "      <td>0</td>\n",
       "      <td>0</td>\n",
       "      <td>0</td>\n",
       "      <td>1</td>\n",
       "      <td>0</td>\n",
       "      <td>1</td>\n",
       "      <td>0</td>\n",
       "      <td>0</td>\n",
       "      <td>0</td>\n",
       "      <td>0</td>\n",
       "      <td>1</td>\n",
       "      <td>0</td>\n",
       "      <td>0</td>\n",
       "    </tr>\n",
       "    <tr>\n",
       "      <th>57</th>\n",
       "      <td>0.715934</td>\n",
       "      <td>1</td>\n",
       "      <td>1</td>\n",
       "      <td>0</td>\n",
       "      <td>1</td>\n",
       "      <td>0</td>\n",
       "      <td>0</td>\n",
       "      <td>1</td>\n",
       "      <td>0</td>\n",
       "      <td>0</td>\n",
       "      <td>0</td>\n",
       "      <td>0</td>\n",
       "      <td>1</td>\n",
       "      <td>0</td>\n",
       "      <td>0</td>\n",
       "    </tr>\n",
       "  </tbody>\n",
       "</table>\n",
       "</div>"
      ],
      "text/plain": [
       "     total_bill  sex_Male  smoker_Yes  day_Fri  day_Sat  day_Sun  day_Thur  \\\n",
       "235    0.217044         1           1        0        1        0         0   \n",
       "228    0.326232         1           0        0        1        0         0   \n",
       "181    0.641367         1           1        0        0        1         0   \n",
       "6      0.433644         1           0        0        0        1         0   \n",
       "57     0.715934         1           1        0        1        0         0   \n",
       "\n",
       "     time_Dinner  time_Lunch  size_1  size_2  size_3  size_4  size_5  size_6  \n",
       "235            1           0       0       1       0       0       0       0  \n",
       "228            1           0       0       0       0       1       0       0  \n",
       "181            1           0       0       0       0       1       0       0  \n",
       "6              1           0       0       0       0       1       0       0  \n",
       "57             1           0       0       0       0       1       0       0  "
      ]
     },
     "execution_count": 16,
     "metadata": {},
     "output_type": "execute_result"
    }
   ],
   "source": [
    "#Verify\n",
    "X_train.head()"
   ]
  },
  {
   "cell_type": "code",
   "execution_count": 17,
   "id": "082f77c2",
   "metadata": {},
   "outputs": [
    {
     "data": {
      "text/plain": [
       "LinearRegression()"
      ]
     },
     "execution_count": 17,
     "metadata": {},
     "output_type": "execute_result"
    }
   ],
   "source": [
    "#Instantiate the linear regression model and fit it to the data\n",
    "lm = LinearRegression()\n",
    "\n",
    "lm.fit(X_train, y_train)"
   ]
  },
  {
   "cell_type": "code",
   "execution_count": 18,
   "id": "a904a6e9",
   "metadata": {},
   "outputs": [
    {
     "name": "stderr",
     "output_type": "stream",
     "text": [
      "/usr/local/anaconda3/lib/python3.9/site-packages/sklearn/linear_model/_base.py:133: FutureWarning: The default of 'normalize' will be set to False in version 1.2 and deprecated in version 1.4.\n",
      "If you wish to scale the data, use Pipeline with a StandardScaler in a preprocessing stage. To reproduce the previous behavior:\n",
      "\n",
      "from sklearn.pipeline import make_pipeline\n",
      "\n",
      "model = make_pipeline(StandardScaler(with_mean=False), LassoLars())\n",
      "\n",
      "If you wish to pass a sample_weight parameter, you need to pass it as a fit parameter to each step of the pipeline as follows:\n",
      "\n",
      "kwargs = {s[0] + '__sample_weight': sample_weight for s in model.steps}\n",
      "model.fit(X, y, **kwargs)\n",
      "\n",
      "Set parameter alpha to: original_alpha * np.sqrt(n_samples). \n",
      "  warnings.warn(\n"
     ]
    },
    {
     "data": {
      "text/plain": [
       "LassoLars()"
      ]
     },
     "execution_count": 18,
     "metadata": {},
     "output_type": "execute_result"
    }
   ],
   "source": [
    "#Instantiate lars and fit\n",
    "lars = LassoLars(alpha=1.0)\n",
    "\n",
    "lars.fit(X_train, y_train)"
   ]
  },
  {
   "cell_type": "code",
   "execution_count": 19,
   "id": "dcf8bb95",
   "metadata": {},
   "outputs": [
    {
     "data": {
      "text/plain": [
       "TweedieRegressor(alpha=1, power=0)"
      ]
     },
     "execution_count": 19,
     "metadata": {},
     "output_type": "execute_result"
    }
   ],
   "source": [
    "#Instantiate TweedieRegressor and fit\n",
    "glm = TweedieRegressor(power=0, alpha=1)\n",
    "\n",
    "glm.fit(X_train, y_train.tip)"
   ]
  },
  {
   "cell_type": "code",
   "execution_count": 20,
   "id": "fba64379",
   "metadata": {},
   "outputs": [
    {
     "name": "stdout",
     "output_type": "stream",
     "text": [
      "RMSE for LinearRegression() model on the train dataset: 1.04.\n",
      "RMSE for LinearRegression() model on the validate dataset: 0.96.\n",
      "\n",
      "RMSE for LassoLars() model on the train dataset: 1.46.\n",
      "RMSE for LassoLars() model on the validate dataset: 1.05.\n",
      "\n",
      "RMSE for TweedieRegressor(alpha=1, power=0) model on the train dataset: 1.36.\n",
      "RMSE for TweedieRegressor(alpha=1, power=0) model on the validate dataset: 1.02.\n",
      "\n"
     ]
    }
   ],
   "source": [
    "#Create a looping statement to evaluate all models\n",
    "models = [lm, lars, glm]\n",
    "\n",
    "for model in models:\n",
    "    y_train[str(model)] = model.predict(X_train)\n",
    "    rmse_train = sqrt(mean_squared_error(y_train['tip'],\n",
    "                                         y_train[str(model)]))\n",
    "    \n",
    "    y_valid[str(model)] = model.predict(X_valid)\n",
    "    rmse_valid = sqrt(mean_squared_error(y_valid['tip'],\n",
    "                                         y_valid[str(model)]))\n",
    "    \n",
    "    print('RMSE for {} model on the train dataset: {}.'.format(model, round(rmse_train, 2)))\n",
    "    print('RMSE for {} model on the validate dataset: {}.'.format(model, round(rmse_valid, 2)))\n",
    "    print()"
   ]
  },
  {
   "cell_type": "code",
   "execution_count": 21,
   "id": "4953a40d",
   "metadata": {},
   "outputs": [],
   "source": [
    "#Rename my columns so they're easier to access\n",
    "y_valid.rename(columns={'LinearRegression()': 'lm', 'LassoLars()': 'lars',\n",
    "                        'TweedieRegressor(alpha=1, power=0)': 'glm'}, inplace=True)"
   ]
  },
  {
   "cell_type": "code",
   "execution_count": 22,
   "id": "53dc1804",
   "metadata": {},
   "outputs": [
    {
     "data": {
      "text/plain": [
       "Index(['tip', 'lm', 'lars', 'glm'], dtype='object')"
      ]
     },
     "execution_count": 22,
     "metadata": {},
     "output_type": "execute_result"
    }
   ],
   "source": [
    "#Verify I renamed them correctly\n",
    "y_valid.columns"
   ]
  },
  {
   "cell_type": "code",
   "execution_count": 23,
   "id": "1b1983fd",
   "metadata": {},
   "outputs": [
    {
     "data": {
      "text/plain": [
       "Text(0.5, 1.0, 'Actual tip vs predicted tip across all models')"
      ]
     },
     "execution_count": 23,
     "metadata": {},
     "output_type": "execute_result"
    },
    {
     "data": {
      "image/png": "[encoded data removed]",
      "text/plain": [
       "<Figure size 1152x576 with 1 Axes>"
      ]
     },
     "metadata": {
      "needs_background": "light"
     },
     "output_type": "display_data"
    }
   ],
   "source": [
    "#Plot the predicted tips against the actual tips, with baseline\n",
    "plt.figure(figsize=(16,8))\n",
    "\n",
    "plt.plot(y_valid['tip'], valid['baseline'], alpha=0.5,\n",
    "         color='gray', label='_nolegend_')\n",
    "plt.plot(valid['tip'], valid['tip'], alpha=0.5,\n",
    "         color='blue', label='_nolegend_')\n",
    "\n",
    "plt.scatter(y_valid['tip'], y_valid['lm'], alpha=0.5,\n",
    "            color='red', s=100, label='Linear Regression')\n",
    "plt.scatter(y_valid['tip'], y_valid['lars'], alpha=0.5,\n",
    "            color='yellow', s=100, label='Lasso Lars')\n",
    "plt.scatter(y_valid['tip'], y_valid['glm'], alpha=0.5,\n",
    "            color='green', s=100, label='Tweedie')\n",
    "\n",
    "plt.legend()\n",
    "plt.xlabel('Actual tip')\n",
    "plt.ylabel('Predicted tip')\n",
    "plt.title('Actual tip vs predicted tip across all models')"
   ]
  },
  {
   "cell_type": "code",
   "execution_count": 24,
   "id": "4a171bc8",
   "metadata": {},
   "outputs": [
    {
     "data": {
      "text/plain": [
       "Text(0.5, 1.0, 'Residual plot')"
      ]
     },
     "execution_count": 24,
     "metadata": {},
     "output_type": "execute_result"
    },
    {
     "data": {
      "image/png": "[encoded data removed]",
      "text/plain": [
       "<Figure size 1152x576 with 1 Axes>"
      ]
     },
     "metadata": {
      "needs_background": "light"
     },
     "output_type": "display_data"
    }
   ],
   "source": [
    "#Residual plot of the same information\n",
    "plt.figure(figsize=(16,8))\n",
    "plt.axhline(label='No Error')\n",
    "\n",
    "plt.scatter(y_valid['tip'], y_valid['lm'] - y_valid['tip'], alpha=0.5,\n",
    "            color='red', s=100, label='Linear Regression')\n",
    "plt.scatter(y_valid['tip'], y_valid['lars'] - y_valid['tip'], alpha=0.5,\n",
    "            color='yellow', s=100, label='Lasso Lars')\n",
    "plt.scatter(y_valid['tip'], y_valid['glm'] - y_valid['tip'], alpha=0.5,\n",
    "            color='green', s=100, label='Tweedie')\n",
    "\n",
    "plt.legend()\n",
    "plt.xlabel('Actual tip')\n",
    "plt.ylabel('Residual error')\n",
    "plt.title('Residual plot')"
   ]
  },
  {
   "cell_type": "code",
   "execution_count": 25,
   "id": "312f9fe2",
   "metadata": {},
   "outputs": [
    {
     "data": {
      "text/plain": [
       "<matplotlib.legend.Legend at 0x7fefcb96c6d0>"
      ]
     },
     "execution_count": 25,
     "metadata": {},
     "output_type": "execute_result"
    },
    {
     "data": {
      "image/png": "[encoded data removed]",
      "text/plain": [
       "<Figure size 1152x576 with 1 Axes>"
      ]
     },
     "metadata": {
      "needs_background": "light"
     },
     "output_type": "display_data"
    }
   ],
   "source": [
    "#Distribution of my models' predictions\n",
    "plt.figure(figsize=(16,8))\n",
    "\n",
    "plt.hist(y_valid['tip'], color='blue', alpha=0.5, label='Actual Tip')\n",
    "plt.hist(y_valid['lm'], color='red', alpha=0.5, label='Linear Regression')\n",
    "plt.hist(y_valid['lars'], color='yellow', alpha=0.5, label='Lasso Lars')\n",
    "plt.hist(y_valid['glm'], color='green', alpha=0.5, label='Tweedie')\n",
    "\n",
    "plt.xlabel('Tip')\n",
    "plt.ylabel('Frequency')\n",
    "plt.title('Frequency of tip amounts by model')\n",
    "plt.legend()"
   ]
  },
  {
   "cell_type": "code",
   "execution_count": 26,
   "id": "a3e6b204",
   "metadata": {},
   "outputs": [
    {
     "name": "stdout",
     "output_type": "stream",
     "text": [
      "RMSE for OLS model on the test dataset: 0.9667891753484866.\n"
     ]
    }
   ],
   "source": [
    "#Evaluate the best performing model on the test subset\n",
    "y_test['lm'] = lm.predict(X_test)\n",
    "\n",
    "rmse_test = sqrt(mean_squared_error(y_test['tip'], y_test['lm']))\n",
    "\n",
    "print('RMSE for OLS model on the test dataset: {}.'.format(rmse_test))"
   ]
  },
  {
   "cell_type": "code",
   "execution_count": null,
   "id": "508d7764",
   "metadata": {},
   "outputs": [],
   "source": []
  }
 ],
 "metadata": {
  "kernelspec": {
   "display_name": "Python 3 (ipykernel)",
   "language": "python",
   "name": "python3"
  },
  "language_info": {
   "codemirror_mode": {
    "name": "ipython",
    "version": 3
   },
   "file_extension": ".py",
   "mimetype": "text/x-python",
   "name": "python",
   "nbconvert_exporter": "python",
   "pygments_lexer": "ipython3",
   "version": "3.9.12"
  }
 },
 "nbformat": 4,
 "nbformat_minor": 5
}
